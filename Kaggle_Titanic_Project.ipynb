{
 "cells": [
  {
   "cell_type": "markdown",
   "id": "7d5da293",
   "metadata": {},
   "source": [
    "# Kaggle Titanic Project"
   ]
  },
  {
   "cell_type": "markdown",
   "id": "7013ee4a",
   "metadata": {},
   "source": [
    "## # Source\n",
    "---\n",
    "\n",
    "Kaggle's [Titanic - Machine Learning from Disaster](https://www.kaggle.com/c/titanic) .<br>"
   ]
  },
  {
   "cell_type": "markdown",
   "id": "b82d33da",
   "metadata": {},
   "source": [
    "## Kaggle Titanic Project - Machine Learning \n",
    "#### Shifra Goldberg"
   ]
  },
  {
   "cell_type": "markdown",
   "id": "5a3a0672",
   "metadata": {},
   "source": [
    "### Problem Definition\n",
    "* The Titanic is one of the most infamous shipwrecks in history.\n",
    "* On April 15, 1912, during her maiden voyage, the shit sank after colliding with an iceberg. \n",
    "* 1502/2224 passengers and did not survive \n",
    "While there were some external conditions that might have impacted survival\n",
    "This project will evaluate what factors if any may have contributed to surival.\n",
    "Are there groups that had higher survival rates?\n",
    "Note there were not enougt life boats on board.\n"
   ]
  },
  {
   "cell_type": "markdown",
   "id": "bff67582",
   "metadata": {},
   "source": [
    "### Sourcing Data\n",
    "Quickly describe the content of the data, citing the source, and explaining why you believe this dataset can be used to solve your problem."
   ]
  },
  {
   "cell_type": "code",
   "execution_count": 1,
   "id": "b0dd96c8-1f00-4c57-888a-922ecd652db2",
   "metadata": {},
   "outputs": [],
   "source": [
    "#imports\n",
    "import pandas as pd\n",
    "import numpy as np\n",
    "import seaborn as sns\n",
    "import matplotlib.pyplot as plt"
   ]
  },
  {
   "cell_type": "code",
   "execution_count": 2,
   "id": "036d8a8f",
   "metadata": {},
   "outputs": [],
   "source": [
    "# Load the data from its source format into a pandas dataframe\n",
    "# https://www.kaggle.com/c/titanic\n",
    "\n",
    "train = ('data/train.csv')\n",
    "test =('data/test.csv')\n",
    "\n",
    "training_data = pd.read_csv(train)"
   ]
  },
  {
   "cell_type": "code",
   "execution_count": 3,
   "id": "5a849257-35c7-450f-9d85-2f3f315dd638",
   "metadata": {},
   "outputs": [],
   "source": [
    "# create copy of training data\n",
    "train_df = training_data.copy()"
   ]
  },
  {
   "cell_type": "code",
   "execution_count": 4,
   "id": "0c9d34d6-0d9a-4727-9612-8869053ded50",
   "metadata": {},
   "outputs": [],
   "source": [
    "# set up dataframe for testing data\n",
    "# note the testing set not not have survived as that will be our predictor \n",
    "test =('data/test.csv')\n",
    "test_data = pd.read_csv(test)\n"
   ]
  },
  {
   "cell_type": "code",
   "execution_count": 5,
   "id": "9adab16b-7230-4e4c-88f3-d84bbe7ccbc5",
   "metadata": {},
   "outputs": [],
   "source": [
    "# create copy of testing data just in case \n",
    "test_df=test_data.copy()"
   ]
  },
  {
   "cell_type": "code",
   "execution_count": 6,
   "id": "d1d675d6-42cf-404d-9cfd-2616160d650f",
   "metadata": {},
   "outputs": [
    {
     "data": {
      "text/html": [
       "<div>\n",
       "<style scoped>\n",
       "    .dataframe tbody tr th:only-of-type {\n",
       "        vertical-align: middle;\n",
       "    }\n",
       "\n",
       "    .dataframe tbody tr th {\n",
       "        vertical-align: top;\n",
       "    }\n",
       "\n",
       "    .dataframe thead th {\n",
       "        text-align: right;\n",
       "    }\n",
       "</style>\n",
       "<table border=\"1\" class=\"dataframe\">\n",
       "  <thead>\n",
       "    <tr style=\"text-align: right;\">\n",
       "      <th></th>\n",
       "      <th>PassengerId</th>\n",
       "      <th>Survived</th>\n",
       "      <th>Pclass</th>\n",
       "      <th>Name</th>\n",
       "      <th>Sex</th>\n",
       "      <th>Age</th>\n",
       "      <th>SibSp</th>\n",
       "      <th>Parch</th>\n",
       "      <th>Ticket</th>\n",
       "      <th>Fare</th>\n",
       "      <th>Cabin</th>\n",
       "      <th>Embarked</th>\n",
       "    </tr>\n",
       "  </thead>\n",
       "  <tbody>\n",
       "    <tr>\n",
       "      <th>0</th>\n",
       "      <td>1</td>\n",
       "      <td>0</td>\n",
       "      <td>3</td>\n",
       "      <td>Braund, Mr. Owen Harris</td>\n",
       "      <td>male</td>\n",
       "      <td>22.0</td>\n",
       "      <td>1</td>\n",
       "      <td>0</td>\n",
       "      <td>A/5 21171</td>\n",
       "      <td>7.2500</td>\n",
       "      <td>NaN</td>\n",
       "      <td>S</td>\n",
       "    </tr>\n",
       "    <tr>\n",
       "      <th>1</th>\n",
       "      <td>2</td>\n",
       "      <td>1</td>\n",
       "      <td>1</td>\n",
       "      <td>Cumings, Mrs. John Bradley (Florence Briggs Th...</td>\n",
       "      <td>female</td>\n",
       "      <td>38.0</td>\n",
       "      <td>1</td>\n",
       "      <td>0</td>\n",
       "      <td>PC 17599</td>\n",
       "      <td>71.2833</td>\n",
       "      <td>C85</td>\n",
       "      <td>C</td>\n",
       "    </tr>\n",
       "  </tbody>\n",
       "</table>\n",
       "</div>"
      ],
      "text/plain": [
       "   PassengerId  Survived  Pclass  \\\n",
       "0            1         0       3   \n",
       "1            2         1       1   \n",
       "\n",
       "                                                Name     Sex   Age  SibSp  \\\n",
       "0                            Braund, Mr. Owen Harris    male  22.0      1   \n",
       "1  Cumings, Mrs. John Bradley (Florence Briggs Th...  female  38.0      1   \n",
       "\n",
       "   Parch     Ticket     Fare Cabin Embarked  \n",
       "0      0  A/5 21171   7.2500   NaN        S  \n",
       "1      0   PC 17599  71.2833   C85        C  "
      ]
     },
     "execution_count": 6,
     "metadata": {},
     "output_type": "execute_result"
    }
   ],
   "source": [
    "train_df.head(2)"
   ]
  },
  {
   "cell_type": "code",
   "execution_count": 8,
   "id": "65b55832-d99e-42b5-b7aa-3106ce3880e9",
   "metadata": {},
   "outputs": [
    {
     "data": {
      "text/plain": [
       "(891, 12)"
      ]
     },
     "execution_count": 8,
     "metadata": {},
     "output_type": "execute_result"
    }
   ],
   "source": [
    "train_df.shape"
   ]
  },
  {
   "cell_type": "markdown",
   "id": "dc1e78f9-3d92-4d35-815a-33b7fa7312ba",
   "metadata": {},
   "source": [
    "* training data 891 rows and 12 cols"
   ]
  },
  {
   "cell_type": "code",
   "execution_count": 9,
   "id": "19c4e361-6b2b-4667-a006-45df8be127d8",
   "metadata": {},
   "outputs": [
    {
     "data": {
      "text/html": [
       "<div>\n",
       "<style scoped>\n",
       "    .dataframe tbody tr th:only-of-type {\n",
       "        vertical-align: middle;\n",
       "    }\n",
       "\n",
       "    .dataframe tbody tr th {\n",
       "        vertical-align: top;\n",
       "    }\n",
       "\n",
       "    .dataframe thead th {\n",
       "        text-align: right;\n",
       "    }\n",
       "</style>\n",
       "<table border=\"1\" class=\"dataframe\">\n",
       "  <thead>\n",
       "    <tr style=\"text-align: right;\">\n",
       "      <th></th>\n",
       "      <th>PassengerId</th>\n",
       "      <th>Pclass</th>\n",
       "      <th>Name</th>\n",
       "      <th>Sex</th>\n",
       "      <th>Age</th>\n",
       "      <th>SibSp</th>\n",
       "      <th>Parch</th>\n",
       "      <th>Ticket</th>\n",
       "      <th>Fare</th>\n",
       "      <th>Cabin</th>\n",
       "      <th>Embarked</th>\n",
       "    </tr>\n",
       "  </thead>\n",
       "  <tbody>\n",
       "    <tr>\n",
       "      <th>0</th>\n",
       "      <td>892</td>\n",
       "      <td>3</td>\n",
       "      <td>Kelly, Mr. James</td>\n",
       "      <td>male</td>\n",
       "      <td>34.5</td>\n",
       "      <td>0</td>\n",
       "      <td>0</td>\n",
       "      <td>330911</td>\n",
       "      <td>7.8292</td>\n",
       "      <td>NaN</td>\n",
       "      <td>Q</td>\n",
       "    </tr>\n",
       "    <tr>\n",
       "      <th>1</th>\n",
       "      <td>893</td>\n",
       "      <td>3</td>\n",
       "      <td>Wilkes, Mrs. James (Ellen Needs)</td>\n",
       "      <td>female</td>\n",
       "      <td>47.0</td>\n",
       "      <td>1</td>\n",
       "      <td>0</td>\n",
       "      <td>363272</td>\n",
       "      <td>7.0000</td>\n",
       "      <td>NaN</td>\n",
       "      <td>S</td>\n",
       "    </tr>\n",
       "  </tbody>\n",
       "</table>\n",
       "</div>"
      ],
      "text/plain": [
       "   PassengerId  Pclass                              Name     Sex   Age  SibSp  \\\n",
       "0          892       3                  Kelly, Mr. James    male  34.5      0   \n",
       "1          893       3  Wilkes, Mrs. James (Ellen Needs)  female  47.0      1   \n",
       "\n",
       "   Parch  Ticket    Fare Cabin Embarked  \n",
       "0      0  330911  7.8292   NaN        Q  \n",
       "1      0  363272  7.0000   NaN        S  "
      ]
     },
     "execution_count": 9,
     "metadata": {},
     "output_type": "execute_result"
    }
   ],
   "source": [
    "test_df.head(2)"
   ]
  },
  {
   "cell_type": "markdown",
   "id": "25c0ad28-d208-4606-965f-054a97f991ed",
   "metadata": {},
   "source": [
    "* note testing data frame does not include survived its our predictor"
   ]
  },
  {
   "cell_type": "code",
   "execution_count": 10,
   "id": "ef763fb5-3afd-48cd-92aa-93b9568ddeca",
   "metadata": {},
   "outputs": [
    {
     "data": {
      "text/plain": [
       "(418, 11)"
      ]
     },
     "execution_count": 10,
     "metadata": {},
     "output_type": "execute_result"
    }
   ],
   "source": [
    "test_df.shape"
   ]
  },
  {
   "cell_type": "markdown",
   "id": "ff22658a-b077-4a40-8fba-e216d0677095",
   "metadata": {},
   "source": [
    "* testing data 418 rows and 12 cols (roughly 1/2 rows of training set)"
   ]
  },
  {
   "cell_type": "markdown",
   "id": "507ce8d2-0f19-483f-b28b-8f23cbe91c2f",
   "metadata": {},
   "source": [
    "## Columns : \n",
    "\n",
    "1. Survived\t(Target Variable)\t0 = No, 1 = Yes (not in testing dataset)\n",
    "\n",
    "2. pclass - Ticket class:  \n",
    "   a. 1st = Upper  \n",
    "   b. 2nd = Middle  \n",
    "   c. 3rd = Lower  \n",
    "3. sex-\tmale, female \n",
    "4. age-\tAge float to include months \n",
    "5. sibsp - no of siblings, spouses aboard the Titanic\t\n",
    "6. parch - # of parents / children aboard the Titanic\t\n",
    "7. ticket - ticket number\t\n",
    "8. fare - passenger fare\t(redundant to class)\n",
    "9. cabin - cabin number\t\n",
    "10. embarked - port of embarkation\tC = Cherbourg, Q = Queenstown, S = Southampton\n"
   ]
  },
  {
   "cell_type": "markdown",
   "id": "b0db9529-ae91-4913-9ef5-c111740e29da",
   "metadata": {},
   "source": [
    "training data has 891 rows and 12 cols"
   ]
  },
  {
   "cell_type": "code",
   "execution_count": 11,
   "id": "a6f55e1e-6707-488b-bc69-808141d3cac4",
   "metadata": {},
   "outputs": [
    {
     "name": "stdout",
     "output_type": "stream",
     "text": [
      "<class 'pandas.core.frame.DataFrame'>\n",
      "RangeIndex: 891 entries, 0 to 890\n",
      "Data columns (total 12 columns):\n",
      " #   Column       Non-Null Count  Dtype  \n",
      "---  ------       --------------  -----  \n",
      " 0   PassengerId  891 non-null    int64  \n",
      " 1   Survived     891 non-null    int64  \n",
      " 2   Pclass       891 non-null    int64  \n",
      " 3   Name         891 non-null    object \n",
      " 4   Sex          891 non-null    object \n",
      " 5   Age          714 non-null    float64\n",
      " 6   SibSp        891 non-null    int64  \n",
      " 7   Parch        891 non-null    int64  \n",
      " 8   Ticket       891 non-null    object \n",
      " 9   Fare         891 non-null    float64\n",
      " 10  Cabin        204 non-null    object \n",
      " 11  Embarked     889 non-null    object \n",
      "dtypes: float64(2), int64(5), object(5)\n",
      "memory usage: 83.7+ KB\n"
     ]
    }
   ],
   "source": [
    "train_df.info()"
   ]
  },
  {
   "cell_type": "markdown",
   "id": "3f1619af-681a-42fb-b747-e197e996e6dc",
   "metadata": {},
   "source": [
    "# Quick overview of data using pandas methods\n",
    "* .info gives us dtypes and non-null counts\n",
    "* for objects \n",
    "* name will be dropped\n",
    "* sex will be one hot encoded\n",
    "* ticket will be dropped\n",
    "* Cabin will be dropped\n",
    "* embarked will be one hot encoded"
   ]
  },
  {
   "cell_type": "code",
   "execution_count": 12,
   "id": "28a2ac5c-4ebd-465c-88c5-cf29239bfecf",
   "metadata": {
    "tags": []
   },
   "outputs": [
    {
     "data": {
      "text/plain": [
       "['PassengerId',\n",
       " 'Survived',\n",
       " 'Pclass',\n",
       " 'Name',\n",
       " 'Sex',\n",
       " 'Age',\n",
       " 'SibSp',\n",
       " 'Parch',\n",
       " 'Ticket',\n",
       " 'Fare',\n",
       " 'Cabin',\n",
       " 'Embarked']"
      ]
     },
     "execution_count": 12,
     "metadata": {},
     "output_type": "execute_result"
    }
   ],
   "source": [
    "train_df.columns.tolist()"
   ]
  },
  {
   "cell_type": "code",
   "execution_count": 13,
   "id": "2ac8fdaf-e833-4354-946e-f8e453f39eaa",
   "metadata": {},
   "outputs": [
    {
     "name": "stdout",
     "output_type": "stream",
     "text": [
      "PassengerId 891\n",
      "Survived 2\n",
      "Pclass 3\n",
      "Name 891\n",
      "Sex 2\n",
      "Age 88\n",
      "SibSp 7\n",
      "Parch 7\n",
      "Ticket 681\n",
      "Fare 248\n",
      "Cabin 147\n",
      "Embarked 3\n"
     ]
    }
   ],
   "source": [
    "# loop thru col in train_df\n",
    "# identify num of unique values \n",
    "\n",
    "for col in train_df.columns:\n",
    "    print(col,train_df[col].nunique())"
   ]
  },
  {
   "cell_type": "markdown",
   "id": "8f8c0bbb-c4bf-4e4e-8952-8acc5d7efa86",
   "metadata": {},
   "source": [
    "* Identify number of unique values in each col\n",
    "* look under the hood and zero in on unqique items to determine next steps\n",
    "* for features with less than 10 worth printing out each unique value"
   ]
  },
  {
   "cell_type": "code",
   "execution_count": 14,
   "id": "c7550a1b-cf86-406d-b544-30a4770fafa4",
   "metadata": {},
   "outputs": [
    {
     "name": "stdout",
     "output_type": "stream",
     "text": [
      "Survived [0 1]\n",
      "Pclass [3 1 2]\n",
      "Sex ['male' 'female']\n",
      "SibSp [1 0 3 4 2 5 8]\n",
      "Parch [0 1 2 5 3 4 6]\n",
      "Embarked ['S' 'C' 'Q' nan]\n"
     ]
    }
   ],
   "source": [
    "for col in train_df.columns:\n",
    "    if train_df[col].nunique()<10:\n",
    "        print(col,train_df[col].unique())"
   ]
  },
  {
   "cell_type": "markdown",
   "id": "ea0387ec-85b7-4adc-af49-eac66cb1d77d",
   "metadata": {},
   "source": [
    "List out unique values in col that have less than 10 unqique values\n",
    "* transform strings to int\n",
    "* Survived can remain or one hot encode\n",
    "* Pclass is ordinal value \n",
    "* Sex can be one hot encoded  - preferable over changing values to 0, 1 - which is not as readable and can communicate order where there is none\n",
    "* SibSp and Parch and numerical \n",
    "* Embarked has nan - but only 2 based on data above - will need to explore and drop or replace\n",
    "* siblings spouses tell us there were familiies of 8 \n",
    "* parch max number of children in a family: 6"
   ]
  },
  {
   "cell_type": "code",
   "execution_count": 15,
   "id": "5f73f7e7-9253-435d-b504-e6ac99b103df",
   "metadata": {},
   "outputs": [
    {
     "data": {
      "text/plain": [
       "S    644\n",
       "C    168\n",
       "Q     77\n",
       "Name: Embarked, dtype: int64"
      ]
     },
     "execution_count": 15,
     "metadata": {},
     "output_type": "execute_result"
    }
   ],
   "source": [
    "# count the values \n",
    "train_df['Embarked'].value_counts()"
   ]
  },
  {
   "cell_type": "code",
   "execution_count": 16,
   "id": "487fe06a-69f1-4854-a2a4-f2ef55d27e1d",
   "metadata": {
    "collapsed": true,
    "jupyter": {
     "outputs_hidden": true
    },
    "tags": []
   },
   "outputs": [
    {
     "data": {
      "text/html": [
       "<div>\n",
       "<style scoped>\n",
       "    .dataframe tbody tr th:only-of-type {\n",
       "        vertical-align: middle;\n",
       "    }\n",
       "\n",
       "    .dataframe tbody tr th {\n",
       "        vertical-align: top;\n",
       "    }\n",
       "\n",
       "    .dataframe thead th {\n",
       "        text-align: right;\n",
       "    }\n",
       "</style>\n",
       "<table border=\"1\" class=\"dataframe\">\n",
       "  <thead>\n",
       "    <tr style=\"text-align: right;\">\n",
       "      <th></th>\n",
       "      <th>PassengerId</th>\n",
       "      <th>Survived</th>\n",
       "      <th>Pclass</th>\n",
       "      <th>Name</th>\n",
       "      <th>Sex</th>\n",
       "      <th>Age</th>\n",
       "      <th>SibSp</th>\n",
       "      <th>Parch</th>\n",
       "      <th>Ticket</th>\n",
       "      <th>Fare</th>\n",
       "      <th>Cabin</th>\n",
       "      <th>Embarked</th>\n",
       "    </tr>\n",
       "  </thead>\n",
       "  <tbody>\n",
       "  </tbody>\n",
       "</table>\n",
       "</div>"
      ],
      "text/plain": [
       "Empty DataFrame\n",
       "Columns: [PassengerId, Survived, Pclass, Name, Sex, Age, SibSp, Parch, Ticket, Fare, Cabin, Embarked]\n",
       "Index: []"
      ]
     },
     "execution_count": 16,
     "metadata": {},
     "output_type": "execute_result"
    }
   ],
   "source": [
    "#count the nans\n",
    "train_df[train_df['Embarked']=='nan']"
   ]
  },
  {
   "cell_type": "markdown",
   "id": "481b08fd-3532-4bf8-995d-bd4aa2f55fb4",
   "metadata": {},
   "source": [
    "S majo of people of titanic embarked in \"S\" will replace NaNs with mode in this case given the large margin"
   ]
  },
  {
   "cell_type": "code",
   "execution_count": 17,
   "id": "fc430f0e-b23d-48c1-b1c6-3bd1c19cae54",
   "metadata": {},
   "outputs": [
    {
     "data": {
      "text/plain": [
       "PassengerId      0\n",
       "Survived         0\n",
       "Pclass           0\n",
       "Name             0\n",
       "Sex              0\n",
       "Age            177\n",
       "SibSp            0\n",
       "Parch            0\n",
       "Ticket           0\n",
       "Fare             0\n",
       "Cabin          687\n",
       "Embarked         2\n",
       "dtype: int64"
      ]
     },
     "execution_count": 17,
     "metadata": {},
     "output_type": "execute_result"
    }
   ],
   "source": [
    "train_df.isnull().sum()"
   ]
  },
  {
   "cell_type": "markdown",
   "id": "c0882e71-80e3-4ace-9d85-903c321865d8",
   "metadata": {},
   "source": [
    "* age has 177 nulls - will need to fill\n",
    "* cabin has 687 nulls - will drop"
   ]
  },
  {
   "cell_type": "code",
   "execution_count": 18,
   "id": "e7ec0c77-1ce3-475a-93e6-f0bae617ab73",
   "metadata": {},
   "outputs": [
    {
     "data": {
      "text/plain": [
       "PassengerId     0.000000\n",
       "Survived        0.000000\n",
       "Pclass          0.000000\n",
       "Name            0.000000\n",
       "Sex             0.000000\n",
       "Age            19.865320\n",
       "SibSp           0.000000\n",
       "Parch           0.000000\n",
       "Ticket          0.000000\n",
       "Fare            0.000000\n",
       "Cabin          77.104377\n",
       "Embarked        0.224467\n",
       "dtype: float64"
      ]
     },
     "execution_count": 18,
     "metadata": {},
     "output_type": "execute_result"
    }
   ],
   "source": [
    "# caclulate the nulls as % of dataset\n",
    "percent_missing = train_df.isnull().sum() *100/len(train_df)\n",
    "percent_missing"
   ]
  },
  {
   "cell_type": "markdown",
   "id": "23711910",
   "metadata": {},
   "source": [
    "* nearly 20% ages null\n",
    "* '> 77% of cabin null - best to drop this col "
   ]
  },
  {
   "cell_type": "markdown",
   "id": "7ffcc941",
   "metadata": {},
   "source": [
    "### Data Cleaning\n",
    "This section should contain all of your data cleaning. Document your approach in markdown as such:"
   ]
  },
  {
   "cell_type": "code",
   "execution_count": null,
   "id": "a907259d",
   "metadata": {},
   "outputs": [],
   "source": [
    "# Show column(s) you're currently inspecting"
   ]
  },
  {
   "cell_type": "markdown",
   "id": "c7b8d26b",
   "metadata": {},
   "source": [
    "Explain technique you're going to implement to clean these datapoints."
   ]
  },
  {
   "cell_type": "code",
   "execution_count": null,
   "id": "027446e2",
   "metadata": {},
   "outputs": [],
   "source": [
    "# Execute cleaning"
   ]
  },
  {
   "cell_type": "markdown",
   "id": "89295f96-51bd-4b24-af00-bad5216b4340",
   "metadata": {},
   "source": [
    "## AGE "
   ]
  },
  {
   "cell_type": "code",
   "execution_count": 19,
   "id": "751147c0-0ba4-431d-bd84-9e8215599a04",
   "metadata": {},
   "outputs": [
    {
     "data": {
      "image/png": "[encoded data removed]",
      "text/plain": [
       "<Figure size 432x288 with 1 Axes>"
      ]
     },
     "metadata": {
      "needs_background": "light"
     },
     "output_type": "display_data"
    }
   ],
   "source": [
    "\n",
    "sns.histplot(train_df.Age, color='purple', bins=50)\n",
    "plt.title(\"Age Dist\")\n",
    "plt.show()"
   ]
  },
  {
   "cell_type": "code",
   "execution_count": 20,
   "id": "e589544a-060a-474c-828f-b14a99659a9c",
   "metadata": {},
   "outputs": [
    {
     "data": {
      "text/plain": [
       "29.69911764705882"
      ]
     },
     "execution_count": 20,
     "metadata": {},
     "output_type": "execute_result"
    }
   ],
   "source": [
    "train_df.Age.mean()\n"
   ]
  },
  {
   "cell_type": "code",
   "execution_count": 21,
   "id": "e4feedde-ed77-4a0b-b3fd-2a759d9abc13",
   "metadata": {},
   "outputs": [
    {
     "data": {
      "text/plain": [
       "28.0"
      ]
     },
     "execution_count": 21,
     "metadata": {},
     "output_type": "execute_result"
    }
   ],
   "source": [
    "train_df.Age.median()"
   ]
  },
  {
   "cell_type": "markdown",
   "id": "20e36e58-fa4a-441f-9006-d3f36511310f",
   "metadata": {},
   "source": [
    "* median and mean age almost the same\n",
    "* note this for replaceing null in age col"
   ]
  },
  {
   "cell_type": "code",
   "execution_count": 23,
   "id": "14f23022-8ea2-4b88-93e7-53552fd8efc7",
   "metadata": {
    "collapsed": true,
    "jupyter": {
     "outputs_hidden": true
    },
    "tags": []
   },
   "outputs": [
    {
     "data": {
      "text/plain": [
       "24.0    30\n",
       "22.0    27\n",
       "18.0    26\n",
       "28.0    25\n",
       "19.0    25\n",
       "30.0    25\n",
       "21.0    24\n",
       "25.0    23\n",
       "36.0    22\n",
       "29.0    20\n",
       "35.0    18\n",
       "32.0    18\n",
       "27.0    18\n",
       "26.0    18\n",
       "16.0    17\n",
       "31.0    17\n",
       "33.0    15\n",
       "34.0    15\n",
       "23.0    15\n",
       "20.0    15\n",
       "Name: Age, dtype: int64"
      ]
     },
     "execution_count": 23,
     "metadata": {},
     "output_type": "execute_result"
    }
   ],
   "source": [
    "train_df.Age.value_counts().head(20)"
   ]
  },
  {
   "cell_type": "code",
   "execution_count": 41,
   "id": "aa540821-a955-4418-863e-cb1c525eee80",
   "metadata": {},
   "outputs": [
    {
     "data": {
      "text/plain": [
       "177"
      ]
     },
     "execution_count": 41,
     "metadata": {},
     "output_type": "execute_result"
    }
   ],
   "source": [
    "# check age col null count  \n",
    "train_df.Age.isnull().sum() "
   ]
  },
  {
   "cell_type": "code",
   "execution_count": 42,
   "id": "db649b35-868c-47ea-99f8-df36cad48359",
   "metadata": {},
   "outputs": [],
   "source": [
    "# 177 null ages\n",
    "# lets impute with mean\n",
    "\n",
    "# replace null age with mean age in testing set\n",
    "train_df['Age'].fillna(train_df['Age'].mean(), inplace=True)"
   ]
  },
  {
   "cell_type": "code",
   "execution_count": 43,
   "id": "10573ec5-bc1d-4bb4-a38c-09eac021a7aa",
   "metadata": {},
   "outputs": [
    {
     "data": {
      "text/plain": [
       "0"
      ]
     },
     "execution_count": 43,
     "metadata": {},
     "output_type": "execute_result"
    }
   ],
   "source": [
    "# confirm age replaced and no nulls remain \n",
    "train_df.Age.isnull().sum()"
   ]
  },
  {
   "cell_type": "markdown",
   "id": "749f9eba-95e0-46bd-a3f7-fd8729124446",
   "metadata": {
    "tags": []
   },
   "source": [
    "\n",
    "#sort the ages into logical categories\n",
    "train_df[\"Age\"] = train_df[\"Age\"].fillna(-0.5)\n",
    "test_df[\"Age\"] = test_df[\"Age\"].fillna(-0.5)\n",
    "bins = [-1, 0, 5, 12, 18, 24, 35, 60, np.inf]\n",
    "age_catagory = ['Unknown', 'Baby', 'Child', 'Teenager', 'Student', 'Young Adult', 'Adult', 'Senior']\n",
    "train_df['AgeGroup'] = pd.cut(train_df[\"Age\"], bins, labels = age_categories)\n",
    "test_df['AgeGroup'] = pd.cut(test_df[\"Age\"], bins, labels = age_categories)\n",
    "\n",
    "#draw a bar plot of Age vs. survival\n",
    "sns.barplot(x=\"AgeGroup\", y=\"Survived\", data=df_train)\n",
    "plt.show()"
   ]
  },
  {
   "cell_type": "code",
   "execution_count": 24,
   "id": "1a28dd80-66c9-4fcc-b52d-a7cf66a92c8e",
   "metadata": {
    "collapsed": true,
    "jupyter": {
     "outputs_hidden": true
    },
    "tags": []
   },
   "outputs": [
    {
     "data": {
      "text/plain": [
       "PassengerId      int64\n",
       "Survived         int64\n",
       "Pclass           int64\n",
       "Name            object\n",
       "Sex             object\n",
       "Age            float64\n",
       "SibSp            int64\n",
       "Parch            int64\n",
       "Ticket          object\n",
       "Fare           float64\n",
       "Cabin           object\n",
       "Embarked        object\n",
       "dtype: object"
      ]
     },
     "execution_count": 24,
     "metadata": {},
     "output_type": "execute_result"
    }
   ],
   "source": [
    "#Convert Catagorical to Numerical \n",
    "train_df.dtypes"
   ]
  },
  {
   "cell_type": "code",
   "execution_count": 25,
   "id": "4307aa4a-c5d3-46fe-bec7-8f6e7e3daefb",
   "metadata": {
    "tags": []
   },
   "outputs": [
    {
     "data": {
      "text/html": [
       "<div>\n",
       "<style scoped>\n",
       "    .dataframe tbody tr th:only-of-type {\n",
       "        vertical-align: middle;\n",
       "    }\n",
       "\n",
       "    .dataframe tbody tr th {\n",
       "        vertical-align: top;\n",
       "    }\n",
       "\n",
       "    .dataframe thead th {\n",
       "        text-align: right;\n",
       "    }\n",
       "</style>\n",
       "<table border=\"1\" class=\"dataframe\">\n",
       "  <thead>\n",
       "    <tr style=\"text-align: right;\">\n",
       "      <th></th>\n",
       "      <th>Name</th>\n",
       "      <th>Sex</th>\n",
       "      <th>Ticket</th>\n",
       "      <th>Cabin</th>\n",
       "      <th>Embarked</th>\n",
       "    </tr>\n",
       "  </thead>\n",
       "  <tbody>\n",
       "    <tr>\n",
       "      <th>0</th>\n",
       "      <td>Braund, Mr. Owen Harris</td>\n",
       "      <td>male</td>\n",
       "      <td>A/5 21171</td>\n",
       "      <td>NaN</td>\n",
       "      <td>S</td>\n",
       "    </tr>\n",
       "    <tr>\n",
       "      <th>1</th>\n",
       "      <td>Cumings, Mrs. John Bradley (Florence Briggs Th...</td>\n",
       "      <td>female</td>\n",
       "      <td>PC 17599</td>\n",
       "      <td>C85</td>\n",
       "      <td>C</td>\n",
       "    </tr>\n",
       "    <tr>\n",
       "      <th>2</th>\n",
       "      <td>Heikkinen, Miss. Laina</td>\n",
       "      <td>female</td>\n",
       "      <td>STON/O2. 3101282</td>\n",
       "      <td>NaN</td>\n",
       "      <td>S</td>\n",
       "    </tr>\n",
       "    <tr>\n",
       "      <th>3</th>\n",
       "      <td>Futrelle, Mrs. Jacques Heath (Lily May Peel)</td>\n",
       "      <td>female</td>\n",
       "      <td>113803</td>\n",
       "      <td>C123</td>\n",
       "      <td>S</td>\n",
       "    </tr>\n",
       "    <tr>\n",
       "      <th>4</th>\n",
       "      <td>Allen, Mr. William Henry</td>\n",
       "      <td>male</td>\n",
       "      <td>373450</td>\n",
       "      <td>NaN</td>\n",
       "      <td>S</td>\n",
       "    </tr>\n",
       "    <tr>\n",
       "      <th>...</th>\n",
       "      <td>...</td>\n",
       "      <td>...</td>\n",
       "      <td>...</td>\n",
       "      <td>...</td>\n",
       "      <td>...</td>\n",
       "    </tr>\n",
       "    <tr>\n",
       "      <th>886</th>\n",
       "      <td>Montvila, Rev. Juozas</td>\n",
       "      <td>male</td>\n",
       "      <td>211536</td>\n",
       "      <td>NaN</td>\n",
       "      <td>S</td>\n",
       "    </tr>\n",
       "    <tr>\n",
       "      <th>887</th>\n",
       "      <td>Graham, Miss. Margaret Edith</td>\n",
       "      <td>female</td>\n",
       "      <td>112053</td>\n",
       "      <td>B42</td>\n",
       "      <td>S</td>\n",
       "    </tr>\n",
       "    <tr>\n",
       "      <th>888</th>\n",
       "      <td>Johnston, Miss. Catherine Helen \"Carrie\"</td>\n",
       "      <td>female</td>\n",
       "      <td>W./C. 6607</td>\n",
       "      <td>NaN</td>\n",
       "      <td>S</td>\n",
       "    </tr>\n",
       "    <tr>\n",
       "      <th>889</th>\n",
       "      <td>Behr, Mr. Karl Howell</td>\n",
       "      <td>male</td>\n",
       "      <td>111369</td>\n",
       "      <td>C148</td>\n",
       "      <td>C</td>\n",
       "    </tr>\n",
       "    <tr>\n",
       "      <th>890</th>\n",
       "      <td>Dooley, Mr. Patrick</td>\n",
       "      <td>male</td>\n",
       "      <td>370376</td>\n",
       "      <td>NaN</td>\n",
       "      <td>Q</td>\n",
       "    </tr>\n",
       "  </tbody>\n",
       "</table>\n",
       "<p>891 rows × 5 columns</p>\n",
       "</div>"
      ],
      "text/plain": [
       "                                                  Name     Sex  \\\n",
       "0                              Braund, Mr. Owen Harris    male   \n",
       "1    Cumings, Mrs. John Bradley (Florence Briggs Th...  female   \n",
       "2                               Heikkinen, Miss. Laina  female   \n",
       "3         Futrelle, Mrs. Jacques Heath (Lily May Peel)  female   \n",
       "4                             Allen, Mr. William Henry    male   \n",
       "..                                                 ...     ...   \n",
       "886                              Montvila, Rev. Juozas    male   \n",
       "887                       Graham, Miss. Margaret Edith  female   \n",
       "888           Johnston, Miss. Catherine Helen \"Carrie\"  female   \n",
       "889                              Behr, Mr. Karl Howell    male   \n",
       "890                                Dooley, Mr. Patrick    male   \n",
       "\n",
       "               Ticket Cabin Embarked  \n",
       "0           A/5 21171   NaN        S  \n",
       "1            PC 17599   C85        C  \n",
       "2    STON/O2. 3101282   NaN        S  \n",
       "3              113803  C123        S  \n",
       "4              373450   NaN        S  \n",
       "..                ...   ...      ...  \n",
       "886            211536   NaN        S  \n",
       "887            112053   B42        S  \n",
       "888        W./C. 6607   NaN        S  \n",
       "889            111369  C148        C  \n",
       "890            370376   NaN        Q  \n",
       "\n",
       "[891 rows x 5 columns]"
      ]
     },
     "execution_count": 25,
     "metadata": {},
     "output_type": "execute_result"
    }
   ],
   "source": [
    "train_df.select_dtypes(include='object')"
   ]
  },
  {
   "cell_type": "markdown",
   "id": "a64d4f7c-12e1-4961-8fcb-df8c97dba807",
   "metadata": {},
   "source": [
    "observations: \n",
    "* drop: ticket, cabin, \n",
    "* one hot encode: Sex, Embarked"
   ]
  },
  {
   "cell_type": "code",
   "execution_count": 26,
   "id": "3d9ffe6a-a816-4402-b10d-656d1ae28ceb",
   "metadata": {},
   "outputs": [
    {
     "data": {
      "text/plain": [
       "(891, 8)"
      ]
     },
     "execution_count": 26,
     "metadata": {},
     "output_type": "execute_result"
    }
   ],
   "source": [
    "# Execute cleaning\n",
    "# these cols will not be used in analysis to determine predictor\n",
    "# cabin had 687 nulls and will not be useful to predict survivor\n",
    "# name won't help predict\n",
    "# passenger ID unique ID wont help predict\n",
    "# drop col that wont be useful in model\n",
    "\n",
    "\n",
    "cols_to_drop = ['PassengerId','Name','Cabin', 'Ticket']\n",
    "\n",
    "train_df = train_df.drop(columns = cols_to_drop)\n",
    "\n",
    "train_df.shape"
   ]
  },
  {
   "cell_type": "markdown",
   "id": "9d6e8b9c-557c-4ed6-a88a-13bac236c9fc",
   "metadata": {},
   "source": [
    "shape confirms that 4 cols dropped"
   ]
  },
  {
   "cell_type": "markdown",
   "id": "ae3b4252-1a91-4abe-91a8-5c6d4a817bf8",
   "metadata": {},
   "source": [
    "repeat with testing set"
   ]
  },
  {
   "cell_type": "code",
   "execution_count": 27,
   "id": "5111a500-2445-497e-918d-f94eb7abf373",
   "metadata": {},
   "outputs": [
    {
     "data": {
      "text/plain": [
       "(418, 7)"
      ]
     },
     "execution_count": 27,
     "metadata": {},
     "output_type": "execute_result"
    }
   ],
   "source": [
    "# drop the same columns that deemed not relevent for predicting survival \n",
    "\n",
    "id_column = test_df['PassengerId']  # save this col for submission \n",
    "\n",
    "columns_to_drop = ['PassengerId','Name','Cabin', 'Ticket']\n",
    "test_df = test_df.drop(columns_to_drop, axis=1)\n",
    "\n",
    "test_df.shape"
   ]
  },
  {
   "cell_type": "markdown",
   "id": "cd1d2552-08b1-4ae3-b1d7-0e82c49851db",
   "metadata": {},
   "source": [
    "## EMBARKED "
   ]
  },
  {
   "cell_type": "code",
   "execution_count": 64,
   "id": "e2c71dde-b9d7-4051-a337-a9bfea7ce337",
   "metadata": {},
   "outputs": [],
   "source": [
    "# fill embarked wiht mode - only 2 missing\n",
    "train_df['Embarked'].fillna(train_df['Embarked'].mode()[0], inplace = True)"
   ]
  },
  {
   "cell_type": "code",
   "execution_count": 65,
   "id": "a292d56a-1f96-48ed-a35d-791fe78061cd",
   "metadata": {},
   "outputs": [
    {
     "data": {
      "text/plain": [
       "0"
      ]
     },
     "execution_count": 65,
     "metadata": {},
     "output_type": "execute_result"
    }
   ],
   "source": [
    "# check that embarked has no nulls\n",
    "train_df.Embarked.isnull().sum()"
   ]
  },
  {
   "cell_type": "code",
   "execution_count": 71,
   "id": "21b48942-4869-4420-9002-2d0fef0bc374",
   "metadata": {},
   "outputs": [],
   "source": [
    "## ONE HOT ENCODE\n",
    "from sklearn.preprocessing import OneHotEncoder\n",
    "\n",
    "#embarked transformed bec object\n",
    "#Sex transformed bec object and dont want to assigne 1 and 1 bec not ordinal\n",
    "#Pclass - bec computer might think 3rd class better than 1st class ???\n",
    "\n",
    "OneHot = OneHotEncoder(categories='auto')\n",
    "\n",
    "One_Hot_Cols = OneHot.fit_transform(train_df[['Embarked','Sex']]).toarray()\n",
    "\n",
    "Col_Names = OneHot.categories_"
   ]
  },
  {
   "cell_type": "code",
   "execution_count": 72,
   "id": "91f05fa2-f492-4254-80f6-7b94024bd395",
   "metadata": {},
   "outputs": [
    {
     "data": {
      "text/plain": [
       "array(['C', 'Q', 'S', 'female', 'male'], dtype=object)"
      ]
     },
     "execution_count": 72,
     "metadata": {},
     "output_type": "execute_result"
    }
   ],
   "source": [
    "# concat col name created by one hot encoder into single array\n",
    "Col_Names = np.concatenate(Col_Names, axis=0)\n",
    "Col_Names"
   ]
  },
  {
   "cell_type": "code",
   "execution_count": 75,
   "id": "5da21fad-62de-4465-8738-7860683cc0bf",
   "metadata": {},
   "outputs": [],
   "source": [
    "# create one hot encoded dataframe\n",
    "One_Hot_df = pd.DataFrame(One_Hot_Cols, columns = Col_Names)"
   ]
  },
  {
   "cell_type": "code",
   "execution_count": 76,
   "id": "2e074612-bb09-4c44-b063-c55f4e5f60d1",
   "metadata": {},
   "outputs": [
    {
     "data": {
      "text/html": [
       "<div>\n",
       "<style scoped>\n",
       "    .dataframe tbody tr th:only-of-type {\n",
       "        vertical-align: middle;\n",
       "    }\n",
       "\n",
       "    .dataframe tbody tr th {\n",
       "        vertical-align: top;\n",
       "    }\n",
       "\n",
       "    .dataframe thead th {\n",
       "        text-align: right;\n",
       "    }\n",
       "</style>\n",
       "<table border=\"1\" class=\"dataframe\">\n",
       "  <thead>\n",
       "    <tr style=\"text-align: right;\">\n",
       "      <th></th>\n",
       "      <th>C</th>\n",
       "      <th>Q</th>\n",
       "      <th>S</th>\n",
       "      <th>female</th>\n",
       "      <th>male</th>\n",
       "    </tr>\n",
       "  </thead>\n",
       "  <tbody>\n",
       "    <tr>\n",
       "      <th>0</th>\n",
       "      <td>0.0</td>\n",
       "      <td>0.0</td>\n",
       "      <td>1.0</td>\n",
       "      <td>0.0</td>\n",
       "      <td>1.0</td>\n",
       "    </tr>\n",
       "    <tr>\n",
       "      <th>1</th>\n",
       "      <td>1.0</td>\n",
       "      <td>0.0</td>\n",
       "      <td>0.0</td>\n",
       "      <td>1.0</td>\n",
       "      <td>0.0</td>\n",
       "    </tr>\n",
       "    <tr>\n",
       "      <th>2</th>\n",
       "      <td>0.0</td>\n",
       "      <td>0.0</td>\n",
       "      <td>1.0</td>\n",
       "      <td>1.0</td>\n",
       "      <td>0.0</td>\n",
       "    </tr>\n",
       "    <tr>\n",
       "      <th>3</th>\n",
       "      <td>0.0</td>\n",
       "      <td>0.0</td>\n",
       "      <td>1.0</td>\n",
       "      <td>1.0</td>\n",
       "      <td>0.0</td>\n",
       "    </tr>\n",
       "    <tr>\n",
       "      <th>4</th>\n",
       "      <td>0.0</td>\n",
       "      <td>0.0</td>\n",
       "      <td>1.0</td>\n",
       "      <td>0.0</td>\n",
       "      <td>1.0</td>\n",
       "    </tr>\n",
       "    <tr>\n",
       "      <th>...</th>\n",
       "      <td>...</td>\n",
       "      <td>...</td>\n",
       "      <td>...</td>\n",
       "      <td>...</td>\n",
       "      <td>...</td>\n",
       "    </tr>\n",
       "    <tr>\n",
       "      <th>886</th>\n",
       "      <td>0.0</td>\n",
       "      <td>0.0</td>\n",
       "      <td>1.0</td>\n",
       "      <td>0.0</td>\n",
       "      <td>1.0</td>\n",
       "    </tr>\n",
       "    <tr>\n",
       "      <th>887</th>\n",
       "      <td>0.0</td>\n",
       "      <td>0.0</td>\n",
       "      <td>1.0</td>\n",
       "      <td>1.0</td>\n",
       "      <td>0.0</td>\n",
       "    </tr>\n",
       "    <tr>\n",
       "      <th>888</th>\n",
       "      <td>0.0</td>\n",
       "      <td>0.0</td>\n",
       "      <td>1.0</td>\n",
       "      <td>1.0</td>\n",
       "      <td>0.0</td>\n",
       "    </tr>\n",
       "    <tr>\n",
       "      <th>889</th>\n",
       "      <td>1.0</td>\n",
       "      <td>0.0</td>\n",
       "      <td>0.0</td>\n",
       "      <td>0.0</td>\n",
       "      <td>1.0</td>\n",
       "    </tr>\n",
       "    <tr>\n",
       "      <th>890</th>\n",
       "      <td>0.0</td>\n",
       "      <td>1.0</td>\n",
       "      <td>0.0</td>\n",
       "      <td>0.0</td>\n",
       "      <td>1.0</td>\n",
       "    </tr>\n",
       "  </tbody>\n",
       "</table>\n",
       "<p>891 rows × 5 columns</p>\n",
       "</div>"
      ],
      "text/plain": [
       "       C    Q    S  female  male\n",
       "0    0.0  0.0  1.0     0.0   1.0\n",
       "1    1.0  0.0  0.0     1.0   0.0\n",
       "2    0.0  0.0  1.0     1.0   0.0\n",
       "3    0.0  0.0  1.0     1.0   0.0\n",
       "4    0.0  0.0  1.0     0.0   1.0\n",
       "..   ...  ...  ...     ...   ...\n",
       "886  0.0  0.0  1.0     0.0   1.0\n",
       "887  0.0  0.0  1.0     1.0   0.0\n",
       "888  0.0  0.0  1.0     1.0   0.0\n",
       "889  1.0  0.0  0.0     0.0   1.0\n",
       "890  0.0  1.0  0.0     0.0   1.0\n",
       "\n",
       "[891 rows x 5 columns]"
      ]
     },
     "execution_count": 76,
     "metadata": {},
     "output_type": "execute_result"
    }
   ],
   "source": [
    "One_Hot_df"
   ]
  },
  {
   "cell_type": "code",
   "execution_count": 78,
   "id": "5c14cf53-725f-4c91-a183-76b1e5cb4a74",
   "metadata": {},
   "outputs": [],
   "source": [
    "train_df = pd.concat([train_df, One_Hot_df], axis=1)\n"
   ]
  },
  {
   "cell_type": "code",
   "execution_count": 79,
   "id": "dff2d250-0875-4054-b18a-b05d9430ade3",
   "metadata": {},
   "outputs": [
    {
     "data": {
      "text/html": [
       "<div>\n",
       "<style scoped>\n",
       "    .dataframe tbody tr th:only-of-type {\n",
       "        vertical-align: middle;\n",
       "    }\n",
       "\n",
       "    .dataframe tbody tr th {\n",
       "        vertical-align: top;\n",
       "    }\n",
       "\n",
       "    .dataframe thead th {\n",
       "        text-align: right;\n",
       "    }\n",
       "</style>\n",
       "<table border=\"1\" class=\"dataframe\">\n",
       "  <thead>\n",
       "    <tr style=\"text-align: right;\">\n",
       "      <th></th>\n",
       "      <th>Survived</th>\n",
       "      <th>Pclass</th>\n",
       "      <th>Sex</th>\n",
       "      <th>Age</th>\n",
       "      <th>SibSp</th>\n",
       "      <th>Parch</th>\n",
       "      <th>Fare</th>\n",
       "      <th>Embarked</th>\n",
       "      <th>C</th>\n",
       "      <th>Q</th>\n",
       "      <th>S</th>\n",
       "      <th>female</th>\n",
       "      <th>male</th>\n",
       "    </tr>\n",
       "  </thead>\n",
       "  <tbody>\n",
       "    <tr>\n",
       "      <th>0</th>\n",
       "      <td>0</td>\n",
       "      <td>3</td>\n",
       "      <td>male</td>\n",
       "      <td>22.0</td>\n",
       "      <td>1</td>\n",
       "      <td>0</td>\n",
       "      <td>7.2500</td>\n",
       "      <td>S</td>\n",
       "      <td>0.0</td>\n",
       "      <td>0.0</td>\n",
       "      <td>1.0</td>\n",
       "      <td>0.0</td>\n",
       "      <td>1.0</td>\n",
       "    </tr>\n",
       "    <tr>\n",
       "      <th>1</th>\n",
       "      <td>1</td>\n",
       "      <td>1</td>\n",
       "      <td>female</td>\n",
       "      <td>38.0</td>\n",
       "      <td>1</td>\n",
       "      <td>0</td>\n",
       "      <td>71.2833</td>\n",
       "      <td>C</td>\n",
       "      <td>1.0</td>\n",
       "      <td>0.0</td>\n",
       "      <td>0.0</td>\n",
       "      <td>1.0</td>\n",
       "      <td>0.0</td>\n",
       "    </tr>\n",
       "  </tbody>\n",
       "</table>\n",
       "</div>"
      ],
      "text/plain": [
       "   Survived  Pclass     Sex   Age  SibSp  Parch     Fare Embarked    C    Q  \\\n",
       "0         0       3    male  22.0      1      0   7.2500        S  0.0  0.0   \n",
       "1         1       1  female  38.0      1      0  71.2833        C  1.0  0.0   \n",
       "\n",
       "     S  female  male  \n",
       "0  1.0     0.0   1.0  \n",
       "1  0.0     1.0   0.0  "
      ]
     },
     "execution_count": 79,
     "metadata": {},
     "output_type": "execute_result"
    }
   ],
   "source": [
    "train_df.head(2)"
   ]
  },
  {
   "cell_type": "code",
   "execution_count": 80,
   "id": "214dd79e-72e8-4071-a55f-4b584eb7e806",
   "metadata": {},
   "outputs": [],
   "source": [
    "#drop sex embarked\n",
    "\n",
    "train_df.drop(columns=[\"Embarked\", \"Sex\"], inplace=True) "
   ]
  },
  {
   "cell_type": "code",
   "execution_count": 81,
   "id": "08143ceb-4bb3-4779-a853-986f805d30ad",
   "metadata": {},
   "outputs": [
    {
     "data": {
      "text/html": [
       "<div>\n",
       "<style scoped>\n",
       "    .dataframe tbody tr th:only-of-type {\n",
       "        vertical-align: middle;\n",
       "    }\n",
       "\n",
       "    .dataframe tbody tr th {\n",
       "        vertical-align: top;\n",
       "    }\n",
       "\n",
       "    .dataframe thead th {\n",
       "        text-align: right;\n",
       "    }\n",
       "</style>\n",
       "<table border=\"1\" class=\"dataframe\">\n",
       "  <thead>\n",
       "    <tr style=\"text-align: right;\">\n",
       "      <th></th>\n",
       "      <th>Survived</th>\n",
       "      <th>Pclass</th>\n",
       "      <th>Age</th>\n",
       "      <th>SibSp</th>\n",
       "      <th>Parch</th>\n",
       "      <th>Fare</th>\n",
       "      <th>C</th>\n",
       "      <th>Q</th>\n",
       "      <th>S</th>\n",
       "      <th>female</th>\n",
       "      <th>male</th>\n",
       "    </tr>\n",
       "  </thead>\n",
       "  <tbody>\n",
       "    <tr>\n",
       "      <th>0</th>\n",
       "      <td>0</td>\n",
       "      <td>3</td>\n",
       "      <td>22.0</td>\n",
       "      <td>1</td>\n",
       "      <td>0</td>\n",
       "      <td>7.2500</td>\n",
       "      <td>0.0</td>\n",
       "      <td>0.0</td>\n",
       "      <td>1.0</td>\n",
       "      <td>0.0</td>\n",
       "      <td>1.0</td>\n",
       "    </tr>\n",
       "    <tr>\n",
       "      <th>1</th>\n",
       "      <td>1</td>\n",
       "      <td>1</td>\n",
       "      <td>38.0</td>\n",
       "      <td>1</td>\n",
       "      <td>0</td>\n",
       "      <td>71.2833</td>\n",
       "      <td>1.0</td>\n",
       "      <td>0.0</td>\n",
       "      <td>0.0</td>\n",
       "      <td>1.0</td>\n",
       "      <td>0.0</td>\n",
       "    </tr>\n",
       "  </tbody>\n",
       "</table>\n",
       "</div>"
      ],
      "text/plain": [
       "   Survived  Pclass   Age  SibSp  Parch     Fare    C    Q    S  female  male\n",
       "0         0       3  22.0      1      0   7.2500  0.0  0.0  1.0     0.0   1.0\n",
       "1         1       1  38.0      1      0  71.2833  1.0  0.0  0.0     1.0   0.0"
      ]
     },
     "execution_count": 81,
     "metadata": {},
     "output_type": "execute_result"
    }
   ],
   "source": [
    "train_df.head(2)"
   ]
  },
  {
   "cell_type": "code",
   "execution_count": null,
   "id": "c36aae4d-c979-49a4-9256-75f8b65679e2",
   "metadata": {},
   "outputs": [],
   "source": []
  },
  {
   "cell_type": "markdown",
   "id": "bfc11ac7-8848-4c8a-ab03-4110f0b076d1",
   "metadata": {
    "tags": []
   },
   "source": [
    "one_hot_encoded_alley = encoder.fit_transform(np.array(df['Alley']).reshape(-1,1)).toarray()\n",
    "alley_columns_names = encoder.categories_[0]\n",
    "print(alley_columns_names)\n",
    "df_of_one_hot_encoded_alley = pd.DataFrame(one_hot_encoded_alley, columns=alley_columns_names)\n",
    "df.drop(columns=\"Alley\", inplace=True)\n",
    "df = pd.concat([df, df_of_one_hot_encoded_alley], axis=1)"
   ]
  },
  {
   "cell_type": "markdown",
   "id": "c46c8261-e1d3-41cc-b276-0e96f76489f4",
   "metadata": {},
   "source": [
    "CORR whats lest"
   ]
  },
  {
   "cell_type": "code",
   "execution_count": 82,
   "id": "77f44135-0aba-4f08-8ad5-013264795514",
   "metadata": {},
   "outputs": [
    {
     "data": {
      "text/plain": [
       "Survived    1.000000\n",
       "Pclass     -0.338481\n",
       "Age        -0.069809\n",
       "SibSp      -0.035322\n",
       "Parch       0.081629\n",
       "Fare        0.257307\n",
       "C           0.168240\n",
       "Q           0.003650\n",
       "S          -0.149683\n",
       "female      0.543351\n",
       "male       -0.543351\n",
       "Name: Survived, dtype: float64"
      ]
     },
     "execution_count": 82,
     "metadata": {},
     "output_type": "execute_result"
    }
   ],
   "source": [
    "#check corr of col with our preictor\n",
    "train_df.corr()['Survived']"
   ]
  },
  {
   "cell_type": "code",
   "execution_count": 83,
   "id": "4cc7a1b3-63d8-4b69-8e2f-da1e198e7ee8",
   "metadata": {},
   "outputs": [
    {
     "data": {
      "text/plain": [
       "<AxesSubplot:>"
      ]
     },
     "execution_count": 83,
     "metadata": {},
     "output_type": "execute_result"
    },
    {
     "data": {
      "image/png": "[encoded data removed]",
      "text/plain": [
       "<Figure size 432x288 with 2 Axes>"
      ]
     },
     "metadata": {
      "needs_background": "light"
     },
     "output_type": "display_data"
    }
   ],
   "source": [
    "sns.heatmap(train_df.corr(),annot=True, cmap=\"twilight\")"
   ]
  },
  {
   "cell_type": "markdown",
   "id": "dd8e9e4a-8130-4a11-acc0-e0eb70a97579",
   "metadata": {},
   "source": [
    "* no strong corr with our data set towards survivor\n",
    "* fare has slight posative corr\n",
    "* pclass has slight neg corr\n",
    "* these two classes may be related but dont show sight of colinarity with .55 corr"
   ]
  },
  {
   "cell_type": "markdown",
   "id": "2697cb59-b790-4ba1-ae76-de57d1e041cb",
   "metadata": {},
   "source": [
    "## TESTING DATA CHECK"
   ]
  },
  {
   "cell_type": "code",
   "execution_count": 30,
   "id": "aeb1b06d-4f1c-48aa-bb4d-07192d533ae0",
   "metadata": {},
   "outputs": [
    {
     "data": {
      "text/plain": [
       "Pclass       0\n",
       "Sex          0\n",
       "Age         86\n",
       "SibSp        0\n",
       "Parch        0\n",
       "Fare         1\n",
       "Embarked     0\n",
       "dtype: int64"
      ]
     },
     "execution_count": 30,
     "metadata": {},
     "output_type": "execute_result"
    }
   ],
   "source": [
    "# check null values \n",
    "test_df.isnull().sum()"
   ]
  },
  {
   "cell_type": "markdown",
   "id": "5cbe010a-57b3-4601-ada6-ca95fa71aa6c",
   "metadata": {},
   "source": [
    "## FARE"
   ]
  },
  {
   "cell_type": "code",
   "execution_count": 32,
   "id": "ed92ac0f-6f78-47f9-bed9-7310729a2169",
   "metadata": {},
   "outputs": [],
   "source": [
    "# replace fare with mean fare in testing set and cast as int\n",
    "test_df['Fare'].fillna(test_df['Fare'].mean(), inplace=True)"
   ]
  },
  {
   "cell_type": "code",
   "execution_count": 33,
   "id": "a26209bd-4b22-45c9-b860-f60c70b82aa7",
   "metadata": {},
   "outputs": [
    {
     "data": {
      "text/plain": [
       "0"
      ]
     },
     "execution_count": 33,
     "metadata": {},
     "output_type": "execute_result"
    }
   ],
   "source": [
    "#confirm there are no nulls in Fare col\n",
    "test_df.Fare.isnull().sum()"
   ]
  },
  {
   "cell_type": "markdown",
   "id": "5d1224ba-a488-4f3e-bc89-bb302d9abd6b",
   "metadata": {},
   "source": [
    "## AGE"
   ]
  },
  {
   "cell_type": "code",
   "execution_count": 35,
   "id": "b7a4c476-1c88-4360-b927-83b6037709a1",
   "metadata": {},
   "outputs": [
    {
     "data": {
      "text/plain": [
       "30.272590361445783"
      ]
     },
     "execution_count": 35,
     "metadata": {},
     "output_type": "execute_result"
    }
   ],
   "source": [
    "# identify the mean and median of Age in testing dataset indep of training dataset\n",
    "test_df.Age.mean()"
   ]
  },
  {
   "cell_type": "code",
   "execution_count": 36,
   "id": "97c770af-ba56-4b2d-8576-a05cbab4d690",
   "metadata": {},
   "outputs": [
    {
     "data": {
      "text/plain": [
       "27.0"
      ]
     },
     "execution_count": 36,
     "metadata": {},
     "output_type": "execute_result"
    }
   ],
   "source": [
    "test_df.Age.median()"
   ]
  },
  {
   "cell_type": "code",
   "execution_count": 37,
   "id": "a00fa349-1e9d-471f-9317-4ba8630929fe",
   "metadata": {},
   "outputs": [],
   "source": [
    "#impute testing dataset with the testing mean age\n",
    "\n",
    "test_df['Age'].fillna(test_df['Age'].mean(), inplace=True)"
   ]
  },
  {
   "cell_type": "code",
   "execution_count": 39,
   "id": "a6057d9a-b425-49eb-b674-8434a525b8d2",
   "metadata": {},
   "outputs": [
    {
     "data": {
      "text/plain": [
       "0"
      ]
     },
     "execution_count": 39,
     "metadata": {},
     "output_type": "execute_result"
    }
   ],
   "source": [
    "# confirm age replaced and no nulls remain \n",
    "test_df.Age.isnull().sum()"
   ]
  },
  {
   "cell_type": "code",
   "execution_count": 44,
   "id": "d2c0a640-714e-4f23-bb5d-9ac0295c014c",
   "metadata": {},
   "outputs": [
    {
     "data": {
      "text/plain": [
       "(418, 7)"
      ]
     },
     "execution_count": 44,
     "metadata": {},
     "output_type": "execute_result"
    }
   ],
   "source": [
    "test_df.shape"
   ]
  },
  {
   "cell_type": "code",
   "execution_count": 45,
   "id": "01bf465a-ea35-4d11-9ade-1fad54568a9e",
   "metadata": {},
   "outputs": [
    {
     "data": {
      "text/plain": [
       "Index(['Pclass', 'Sex', 'Age', 'SibSp', 'Parch', 'Fare', 'Embarked'], dtype='object')"
      ]
     },
     "execution_count": 45,
     "metadata": {},
     "output_type": "execute_result"
    }
   ],
   "source": [
    "test_df.columns"
   ]
  },
  {
   "cell_type": "markdown",
   "id": "a4cabe48-4e69-4d2d-8cc8-2da7ce618cdf",
   "metadata": {},
   "source": [
    "## One_Hot_Encode"
   ]
  },
  {
   "cell_type": "code",
   "execution_count": 85,
   "id": "4d1b7500-e970-4bd0-a5bf-6564ae417f80",
   "metadata": {},
   "outputs": [],
   "source": [
    "## One Hot Encode Testing Data\n",
    "OneHot = OneHotEncoder(categories='auto')\n",
    "\n",
    "One_Hot_Cols = OneHot.fit_transform(test_df[['Embarked','Sex']]).toarray()\n",
    "\n",
    "Col_Names = OneHot.categories_"
   ]
  },
  {
   "cell_type": "code",
   "execution_count": 86,
   "id": "bc7981b5-a570-4951-9e7d-4706aeb3b05f",
   "metadata": {},
   "outputs": [
    {
     "data": {
      "text/plain": [
       "array(['C', 'Q', 'S', 'female', 'male'], dtype=object)"
      ]
     },
     "execution_count": 86,
     "metadata": {},
     "output_type": "execute_result"
    }
   ],
   "source": [
    "# concat col name created by one hot encoder into single array\n",
    "Col_Names = np.concatenate(Col_Names, axis=0)\n",
    "Col_Names"
   ]
  },
  {
   "cell_type": "code",
   "execution_count": 87,
   "id": "aefaa87e-bb8d-44a5-be9c-e1ca9fb449e0",
   "metadata": {},
   "outputs": [],
   "source": [
    "# create one hot encoded dataframe\n",
    "One_Hot_test_df = pd.DataFrame(One_Hot_Cols, columns = Col_Names)"
   ]
  },
  {
   "cell_type": "code",
   "execution_count": 88,
   "id": "3a642127-b0df-455f-80a3-356eaae26b7d",
   "metadata": {},
   "outputs": [],
   "source": [
    "test_df = pd.concat([test_df, One_Hot_test_df], axis=1)"
   ]
  },
  {
   "cell_type": "code",
   "execution_count": 90,
   "id": "975cccad-b46b-4b4b-9ac7-f83d4acfe8b1",
   "metadata": {},
   "outputs": [
    {
     "data": {
      "text/html": [
       "<div>\n",
       "<style scoped>\n",
       "    .dataframe tbody tr th:only-of-type {\n",
       "        vertical-align: middle;\n",
       "    }\n",
       "\n",
       "    .dataframe tbody tr th {\n",
       "        vertical-align: top;\n",
       "    }\n",
       "\n",
       "    .dataframe thead th {\n",
       "        text-align: right;\n",
       "    }\n",
       "</style>\n",
       "<table border=\"1\" class=\"dataframe\">\n",
       "  <thead>\n",
       "    <tr style=\"text-align: right;\">\n",
       "      <th></th>\n",
       "      <th>Pclass</th>\n",
       "      <th>Sex</th>\n",
       "      <th>Age</th>\n",
       "      <th>SibSp</th>\n",
       "      <th>Parch</th>\n",
       "      <th>Fare</th>\n",
       "      <th>Embarked</th>\n",
       "      <th>C</th>\n",
       "      <th>Q</th>\n",
       "      <th>S</th>\n",
       "      <th>female</th>\n",
       "      <th>male</th>\n",
       "    </tr>\n",
       "  </thead>\n",
       "  <tbody>\n",
       "    <tr>\n",
       "      <th>0</th>\n",
       "      <td>3</td>\n",
       "      <td>male</td>\n",
       "      <td>34.5</td>\n",
       "      <td>0</td>\n",
       "      <td>0</td>\n",
       "      <td>7.8292</td>\n",
       "      <td>Q</td>\n",
       "      <td>0.0</td>\n",
       "      <td>1.0</td>\n",
       "      <td>0.0</td>\n",
       "      <td>0.0</td>\n",
       "      <td>1.0</td>\n",
       "    </tr>\n",
       "    <tr>\n",
       "      <th>1</th>\n",
       "      <td>3</td>\n",
       "      <td>female</td>\n",
       "      <td>47.0</td>\n",
       "      <td>1</td>\n",
       "      <td>0</td>\n",
       "      <td>7.0000</td>\n",
       "      <td>S</td>\n",
       "      <td>0.0</td>\n",
       "      <td>0.0</td>\n",
       "      <td>1.0</td>\n",
       "      <td>1.0</td>\n",
       "      <td>0.0</td>\n",
       "    </tr>\n",
       "  </tbody>\n",
       "</table>\n",
       "</div>"
      ],
      "text/plain": [
       "   Pclass     Sex   Age  SibSp  Parch    Fare Embarked    C    Q    S  female  \\\n",
       "0       3    male  34.5      0      0  7.8292        Q  0.0  1.0  0.0     0.0   \n",
       "1       3  female  47.0      1      0  7.0000        S  0.0  0.0  1.0     1.0   \n",
       "\n",
       "   male  \n",
       "0   1.0  \n",
       "1   0.0  "
      ]
     },
     "execution_count": 90,
     "metadata": {},
     "output_type": "execute_result"
    }
   ],
   "source": [
    "test_df.head(2)"
   ]
  },
  {
   "cell_type": "code",
   "execution_count": 91,
   "id": "7f8efefe-751c-4287-8bd2-d2b2c149b9fa",
   "metadata": {},
   "outputs": [],
   "source": [
    "#drop sex embarked\n",
    "\n",
    "test_df.drop(columns=[\"Embarked\", \"Sex\"], inplace=True) "
   ]
  },
  {
   "cell_type": "markdown",
   "id": "c82307e5-bf6a-4119-9b45-d975c8fabad9",
   "metadata": {},
   "source": [
    "confirm shape and cols in testing "
   ]
  },
  {
   "cell_type": "code",
   "execution_count": 92,
   "id": "4ec76797-5a94-4b72-98d0-8ff85df33fa2",
   "metadata": {},
   "outputs": [
    {
     "data": {
      "text/html": [
       "<div>\n",
       "<style scoped>\n",
       "    .dataframe tbody tr th:only-of-type {\n",
       "        vertical-align: middle;\n",
       "    }\n",
       "\n",
       "    .dataframe tbody tr th {\n",
       "        vertical-align: top;\n",
       "    }\n",
       "\n",
       "    .dataframe thead th {\n",
       "        text-align: right;\n",
       "    }\n",
       "</style>\n",
       "<table border=\"1\" class=\"dataframe\">\n",
       "  <thead>\n",
       "    <tr style=\"text-align: right;\">\n",
       "      <th></th>\n",
       "      <th>Pclass</th>\n",
       "      <th>Age</th>\n",
       "      <th>SibSp</th>\n",
       "      <th>Parch</th>\n",
       "      <th>Fare</th>\n",
       "      <th>C</th>\n",
       "      <th>Q</th>\n",
       "      <th>S</th>\n",
       "      <th>female</th>\n",
       "      <th>male</th>\n",
       "    </tr>\n",
       "  </thead>\n",
       "  <tbody>\n",
       "    <tr>\n",
       "      <th>0</th>\n",
       "      <td>3</td>\n",
       "      <td>34.5</td>\n",
       "      <td>0</td>\n",
       "      <td>0</td>\n",
       "      <td>7.8292</td>\n",
       "      <td>0.0</td>\n",
       "      <td>1.0</td>\n",
       "      <td>0.0</td>\n",
       "      <td>0.0</td>\n",
       "      <td>1.0</td>\n",
       "    </tr>\n",
       "    <tr>\n",
       "      <th>1</th>\n",
       "      <td>3</td>\n",
       "      <td>47.0</td>\n",
       "      <td>1</td>\n",
       "      <td>0</td>\n",
       "      <td>7.0000</td>\n",
       "      <td>0.0</td>\n",
       "      <td>0.0</td>\n",
       "      <td>1.0</td>\n",
       "      <td>1.0</td>\n",
       "      <td>0.0</td>\n",
       "    </tr>\n",
       "  </tbody>\n",
       "</table>\n",
       "</div>"
      ],
      "text/plain": [
       "   Pclass   Age  SibSp  Parch    Fare    C    Q    S  female  male\n",
       "0       3  34.5      0      0  7.8292  0.0  1.0  0.0     0.0   1.0\n",
       "1       3  47.0      1      0  7.0000  0.0  0.0  1.0     1.0   0.0"
      ]
     },
     "execution_count": 92,
     "metadata": {},
     "output_type": "execute_result"
    }
   ],
   "source": [
    "test_df.head(2)"
   ]
  },
  {
   "cell_type": "markdown",
   "id": "272af69b",
   "metadata": {},
   "source": [
    "**ANY DROPPED COLUMNS REQUIRE AN EXPLANATION.**"
   ]
  },
  {
   "cell_type": "markdown",
   "id": "c1bd3c1d",
   "metadata": {},
   "source": [
    "### Exploratory Data Analysis\n",
    "This area should contain your visualizations as you seek to understand the relationships that exists within the data before running your linear regression algorithm."
   ]
  },
  {
   "cell_type": "markdown",
   "id": "95c29883",
   "metadata": {},
   "source": [
    "Express your curiosities in markdown, followed by your code to create the visualization that explores that curiosity."
   ]
  },
  {
   "cell_type": "code",
   "execution_count": null,
   "id": "9beee8ed",
   "metadata": {},
   "outputs": [],
   "source": [
    "# Code for visualization"
   ]
  },
  {
   "cell_type": "markdown",
   "id": "8b9dbd9d",
   "metadata": {},
   "source": [
    "**EVERY VISUALIZATION REQUIRES AN ASSOCIATED DECSRIPTION** *(in addition to titles, axis labels, specified units of measurements, and legend if necessary.)*"
   ]
  },
  {
   "cell_type": "code",
   "execution_count": 55,
   "id": "975966b9-4c3c-4a7e-afb0-060257e577dd",
   "metadata": {},
   "outputs": [
    {
     "data": {
      "text/plain": [
       "<function matplotlib.pyplot.show(close=None, block=None)>"
      ]
     },
     "execution_count": 55,
     "metadata": {},
     "output_type": "execute_result"
    },
    {
     "data": {
      "image/png": "[encoded data removed]",
      "text/plain": [
       "<Figure size 432x288 with 1 Axes>"
      ]
     },
     "metadata": {
      "needs_background": "light"
     },
     "output_type": "display_data"
    }
   ],
   "source": [
    "sns.countplot(x=\"Survived\", data=train_df, palette=\"twilight\")\n",
    "plt.title(\"Survived\")\n",
    "plt.show"
   ]
  },
  {
   "cell_type": "markdown",
   "id": "e9c754f8-53e0-469b-ac98-b3b149a64abd",
   "metadata": {},
   "source": [
    "survived reasonable balanced"
   ]
  },
  {
   "cell_type": "markdown",
   "id": "9482c55b-3d93-4392-82b9-7efc795bf153",
   "metadata": {},
   "source": [
    "### GENDER "
   ]
  },
  {
   "cell_type": "code",
   "execution_count": 57,
   "id": "8490ed00-bbf5-4bf3-8091-da9b8e8cf549",
   "metadata": {
    "tags": []
   },
   "outputs": [
    {
     "data": {
      "text/plain": [
       "<function matplotlib.pyplot.show(close=None, block=None)>"
      ]
     },
     "execution_count": 57,
     "metadata": {},
     "output_type": "execute_result"
    },
    {
     "data": {
      "image/png": "[encoded data removed]",
      "text/plain": [
       "<Figure size 432x288 with 1 Axes>"
      ]
     },
     "metadata": {
      "needs_background": "light"
     },
     "output_type": "display_data"
    }
   ],
   "source": [
    "sns.countplot(x=\"Sex\", data=train_df, palette=\"twilight\")\n",
    "plt.title(\"Titanic Population by Gender\")\n",
    "plt.show"
   ]
  },
  {
   "cell_type": "code",
   "execution_count": 46,
   "id": "796eebe4-1d8a-436e-a736-1e0289d075cf",
   "metadata": {},
   "outputs": [
    {
     "name": "stdout",
     "output_type": "stream",
     "text": [
      "Percentage of females who survived: 74.20382165605095\n",
      "Percentage of males who survived: 18.890814558058924\n"
     ]
    },
    {
     "data": {
      "image/png": "[encoded data removed]",
      "text/plain": [
       "<Figure size 432x288 with 1 Axes>"
      ]
     },
     "metadata": {
      "needs_background": "light"
     },
     "output_type": "display_data"
    }
   ],
   "source": [
    "#survival by sex\n",
    "sns.barplot(x=\"Sex\", y=\"Survived\", data=train_df, palette=\"twilight\")\n",
    "plt.title(\"Survival by Gender\")\n",
    "plt.show\n",
    "\n",
    "#% females vs. males survivores\n",
    "print(\"Percentage of females who survived:\", train_df[\"Survived\"][train_df[\"Sex\"] == 'female'].value_counts(normalize = True)[1]*100)\n",
    "print(\"Percentage of males who survived:\", train_df[\"Survived\"][train_df[\"Sex\"] == 'male'].value_counts(normalize = True)[1]*100)"
   ]
  },
  {
   "cell_type": "markdown",
   "id": "9221ead8-6496-4621-b089-9724eed81f45",
   "metadata": {},
   "source": [
    "74% of females in our training datasest survived - very interesting "
   ]
  },
  {
   "cell_type": "markdown",
   "id": "9ce2525f-69e2-4982-a6e0-3607613baa7d",
   "metadata": {},
   "source": [
    "## CLASS"
   ]
  },
  {
   "cell_type": "code",
   "execution_count": 48,
   "id": "9e6a7a13-e97d-4cd8-bd5b-9bafa5dc3960",
   "metadata": {},
   "outputs": [
    {
     "data": {
      "image/png": "[encoded data removed]",
      "text/plain": [
       "<Figure size 432x288 with 1 Axes>"
      ]
     },
     "metadata": {
      "needs_background": "light"
     },
     "output_type": "display_data"
    }
   ],
   "source": [
    "#check number of passengers by class \n",
    "#titanic = sns.load_dataset(\"titanic\")\n",
    "ax = sns.countplot(x=\"Pclass\", data=train_df, palette=\"twilight\")\n",
    "plt.title(\"count of passengers by class\" )\n",
    "plt.show()"
   ]
  },
  {
   "cell_type": "markdown",
   "id": "3c592791-09b9-4b92-87ad-9973b1d6fadb",
   "metadata": {},
   "source": [
    "It is not surprising: most of passengers in in third class"
   ]
  },
  {
   "cell_type": "code",
   "execution_count": 53,
   "id": "52472ebe-443b-4c78-b981-0498b9698521",
   "metadata": {},
   "outputs": [
    {
     "data": {
      "image/png": "[encoded data removed]",
      "text/plain": [
       "<Figure size 432x288 with 1 Axes>"
      ]
     },
     "metadata": {
      "needs_background": "light"
     },
     "output_type": "display_data"
    }
   ],
   "source": [
    "#check breakdown of gender within class\n",
    "\n",
    "sns.countplot(x=\"Pclass\", hue=\"Sex\", data=train_df, palette= \"twilight\")\n",
    "plt.title(\"count of passengers by class with breakdown of M/F\" )\n",
    "plt.show()"
   ]
  },
  {
   "cell_type": "markdown",
   "id": "d54a9ef3-e990-4052-ad7b-eb62f2840329",
   "metadata": {},
   "source": [
    "* males > females in all Pclasses \n",
    "* class 3 having more than 2x as many men to females"
   ]
  },
  {
   "cell_type": "code",
   "execution_count": 58,
   "id": "82060095-458c-4bbd-ad85-7ceba19a0e4e",
   "metadata": {},
   "outputs": [
    {
     "data": {
      "image/png": "[encoded data removed]",
      "text/plain": [
       "<Figure size 473.7x288 with 2 Axes>"
      ]
     },
     "metadata": {
      "needs_background": "light"
     },
     "output_type": "display_data"
    }
   ],
   "source": [
    "#check breakdown by of sruvived by class and gender\n",
    "\n",
    "sns.catplot(x=\"Pclass\", hue=\"Sex\", col=\"Survived\",\n",
    "                data=train_df, kind=\"count\",\n",
    "                height=4, aspect=.7, palette=\"twilight\")\n",
    "plt.show()"
   ]
  },
  {
   "cell_type": "markdown",
   "id": "42149fd3-9b17-461f-af4c-a55e382d955c",
   "metadata": {},
   "source": [
    "More females survived in all classes"
   ]
  },
  {
   "cell_type": "code",
   "execution_count": 62,
   "id": "cfac8a93-c4ac-49a5-a4c3-0b357a8eee40",
   "metadata": {},
   "outputs": [
    {
     "name": "stdout",
     "output_type": "stream",
     "text": [
      "Percentage of Survivors: Pclass = 1: 62.96296296296296\n",
      "Percentage of Survivors Pcalss = 2: 47.28260869565217\n",
      "Percentage of Survivors = Pcalss = 3: 24.236252545824847\n"
     ]
    },
    {
     "data": {
      "image/png": "[encoded data removed]",
      "text/plain": [
       "<Figure size 432x288 with 1 Axes>"
      ]
     },
     "metadata": {
      "needs_background": "light"
     },
     "output_type": "display_data"
    }
   ],
   "source": [
    "#survived by Pclass\n",
    "\n",
    "sns.barplot(x=\"Pclass\", y=\"Survived\", data=train_df, palette=\"twilight\")\n",
    "plt.title(\"Percentage of Survivors by Pclass\")\n",
    "plt.show\n",
    "\n",
    "#print percentage of people by Pclass that survived\n",
    "print(\"Percentage of Survivors: Pclass = 1:\", train_df[\"Survived\"][train_df[\"Pclass\"] == 1].value_counts(normalize = True)[1]*100)\n",
    "\n",
    "print(\"Percentage of Survivors Pcalss = 2:\", train_df[\"Survived\"][train_df[\"Pclass\"] == 2].value_counts(normalize = True)[1]*100)\n",
    "\n",
    "print(\"Percentage of Survivors = Pcalss = 3:\", train_df[\"Survived\"][train_df[\"Pclass\"] == 3].value_counts(normalize = True)[1]*100)"
   ]
  },
  {
   "cell_type": "markdown",
   "id": "5a081377-e265-49b8-aaa5-6241470fa59a",
   "metadata": {},
   "source": [
    "* 62% of survivors from 1st class\n",
    "* 47% from 2nd class\n",
    "* 24% from 3rd class\n"
   ]
  },
  {
   "cell_type": "code",
   "execution_count": 63,
   "id": "54feda73-252d-4f53-95d1-1ffcca609b29",
   "metadata": {},
   "outputs": [
    {
     "data": {
      "text/plain": [
       "<function matplotlib.pyplot.show(close=None, block=None)>"
      ]
     },
     "execution_count": 63,
     "metadata": {},
     "output_type": "execute_result"
    },
    {
     "data": {
      "image/png": "[encoded data removed]",
      "text/plain": [
       "<Figure size 432x288 with 1 Axes>"
      ]
     },
     "metadata": {
      "needs_background": "light"
     },
     "output_type": "display_data"
    }
   ],
   "source": [
    "sns.barplot(x=\"Pclass\", y=\"Survived\", hue=\"Sex\", data=train_df, palette=\"twilight\")\n",
    "plt.title(\"Percentage of Survivors by Pclass\")\n",
    "plt.show"
   ]
  },
  {
   "cell_type": "code",
   "execution_count": 67,
   "id": "fa62c71f-a86f-4a68-bf32-f4e523a3d009",
   "metadata": {},
   "outputs": [
    {
     "data": {
      "text/html": [
       "<div>\n",
       "<style scoped>\n",
       "    .dataframe tbody tr th:only-of-type {\n",
       "        vertical-align: middle;\n",
       "    }\n",
       "\n",
       "    .dataframe tbody tr th {\n",
       "        vertical-align: top;\n",
       "    }\n",
       "\n",
       "    .dataframe thead th {\n",
       "        text-align: right;\n",
       "    }\n",
       "</style>\n",
       "<table border=\"1\" class=\"dataframe\">\n",
       "  <thead>\n",
       "    <tr style=\"text-align: right;\">\n",
       "      <th></th>\n",
       "      <th></th>\n",
       "      <th>count</th>\n",
       "      <th>mean</th>\n",
       "      <th>std</th>\n",
       "      <th>min</th>\n",
       "      <th>25%</th>\n",
       "      <th>50%</th>\n",
       "      <th>75%</th>\n",
       "      <th>max</th>\n",
       "    </tr>\n",
       "    <tr>\n",
       "      <th>Pclass</th>\n",
       "      <th>Survived</th>\n",
       "      <th></th>\n",
       "      <th></th>\n",
       "      <th></th>\n",
       "      <th></th>\n",
       "      <th></th>\n",
       "      <th></th>\n",
       "      <th></th>\n",
       "      <th></th>\n",
       "    </tr>\n",
       "  </thead>\n",
       "  <tbody>\n",
       "    <tr>\n",
       "      <th rowspan=\"2\" valign=\"top\">1</th>\n",
       "      <th>0</th>\n",
       "      <td>80.0</td>\n",
       "      <td>40.896074</td>\n",
       "      <td>14.766000</td>\n",
       "      <td>2.00</td>\n",
       "      <td>29.699118</td>\n",
       "      <td>38.500000</td>\n",
       "      <td>51.250000</td>\n",
       "      <td>71.0</td>\n",
       "    </tr>\n",
       "    <tr>\n",
       "      <th>1</th>\n",
       "      <td>136.0</td>\n",
       "      <td>34.784615</td>\n",
       "      <td>13.141263</td>\n",
       "      <td>0.92</td>\n",
       "      <td>26.000000</td>\n",
       "      <td>33.500000</td>\n",
       "      <td>43.250000</td>\n",
       "      <td>80.0</td>\n",
       "    </tr>\n",
       "    <tr>\n",
       "      <th rowspan=\"2\" valign=\"top\">2</th>\n",
       "      <th>0</th>\n",
       "      <td>97.0</td>\n",
       "      <td>33.266947</td>\n",
       "      <td>11.742843</td>\n",
       "      <td>16.00</td>\n",
       "      <td>25.000000</td>\n",
       "      <td>30.000000</td>\n",
       "      <td>38.000000</td>\n",
       "      <td>70.0</td>\n",
       "    </tr>\n",
       "    <tr>\n",
       "      <th>1</th>\n",
       "      <td>87.0</td>\n",
       "      <td>26.076166</td>\n",
       "      <td>14.510680</td>\n",
       "      <td>0.67</td>\n",
       "      <td>18.000000</td>\n",
       "      <td>28.000000</td>\n",
       "      <td>34.000000</td>\n",
       "      <td>62.0</td>\n",
       "    </tr>\n",
       "    <tr>\n",
       "      <th rowspan=\"2\" valign=\"top\">3</th>\n",
       "      <th>0</th>\n",
       "      <td>372.0</td>\n",
       "      <td>27.417500</td>\n",
       "      <td>10.596718</td>\n",
       "      <td>1.00</td>\n",
       "      <td>21.000000</td>\n",
       "      <td>29.699118</td>\n",
       "      <td>30.000000</td>\n",
       "      <td>74.0</td>\n",
       "    </tr>\n",
       "    <tr>\n",
       "      <th>1</th>\n",
       "      <td>119.0</td>\n",
       "      <td>23.232689</td>\n",
       "      <td>10.922065</td>\n",
       "      <td>0.42</td>\n",
       "      <td>18.000000</td>\n",
       "      <td>27.000000</td>\n",
       "      <td>29.699118</td>\n",
       "      <td>63.0</td>\n",
       "    </tr>\n",
       "  </tbody>\n",
       "</table>\n",
       "</div>"
      ],
      "text/plain": [
       "                 count       mean        std    min        25%        50%  \\\n",
       "Pclass Survived                                                             \n",
       "1      0          80.0  40.896074  14.766000   2.00  29.699118  38.500000   \n",
       "       1         136.0  34.784615  13.141263   0.92  26.000000  33.500000   \n",
       "2      0          97.0  33.266947  11.742843  16.00  25.000000  30.000000   \n",
       "       1          87.0  26.076166  14.510680   0.67  18.000000  28.000000   \n",
       "3      0         372.0  27.417500  10.596718   1.00  21.000000  29.699118   \n",
       "       1         119.0  23.232689  10.922065   0.42  18.000000  27.000000   \n",
       "\n",
       "                       75%   max  \n",
       "Pclass Survived                   \n",
       "1      0         51.250000  71.0  \n",
       "       1         43.250000  80.0  \n",
       "2      0         38.000000  70.0  \n",
       "       1         34.000000  62.0  \n",
       "3      0         30.000000  74.0  \n",
       "       1         29.699118  63.0  "
      ]
     },
     "execution_count": 67,
     "metadata": {},
     "output_type": "execute_result"
    }
   ],
   "source": [
    "train_df.groupby([\"Pclass\", 'Survived'])[\"Age\"].describe()"
   ]
  },
  {
   "cell_type": "markdown",
   "id": "e54e0cea-1124-4dba-94dd-dc7ad770af1d",
   "metadata": {},
   "source": [
    "class 1 has older passengers and class 3 has younger"
   ]
  },
  {
   "cell_type": "markdown",
   "id": "72edde4a-4f17-450f-b757-f6bb3ba99c67",
   "metadata": {},
   "source": [
    "### EMBARKED"
   ]
  },
  {
   "cell_type": "code",
   "execution_count": 68,
   "id": "b872459f-9534-414b-bc2e-029f810de7e5",
   "metadata": {},
   "outputs": [
    {
     "name": "stdout",
     "output_type": "stream",
     "text": [
      "Percentage of Survivors: Embarked = S: 33.90092879256966\n",
      "Percentage of Survivors Embarked = C: 55.35714285714286\n",
      "Percentage of Survivors = Embarked = Q: 38.961038961038966\n"
     ]
    },
    {
     "data": {
      "image/png": "[encoded data removed]",
      "text/plain": [
       "<Figure size 432x288 with 1 Axes>"
      ]
     },
     "metadata": {
      "needs_background": "light"
     },
     "output_type": "display_data"
    }
   ],
   "source": [
    "sns.barplot(x=\"Embarked\", y=\"Survived\", data=train_df, palette=\"twilight\")\n",
    "plt.title(\"Percentage of Survivors by Embarked\")\n",
    "plt.show\n",
    "\n",
    "#print percentage of people by Pclass that survived\n",
    "print(\"Percentage of Survivors: Embarked = S:\", train_df[\"Survived\"][train_df[\"Embarked\"] == \"S\"].value_counts(normalize = True)[1]*100)\n",
    "\n",
    "print(\"Percentage of Survivors Embarked = C:\", train_df[\"Survived\"][train_df[\"Embarked\"] == \"C\"].value_counts(normalize = True)[1]*100)\n",
    "\n",
    "print(\"Percentage of Survivors = Embarked = Q:\", train_df[\"Survived\"][train_df[\"Embarked\"] == \"Q\"].value_counts(normalize = True)[1]*100)"
   ]
  },
  {
   "cell_type": "code",
   "execution_count": 69,
   "id": "79a055ad-142a-4fcf-8639-b36b4cb939aa",
   "metadata": {},
   "outputs": [
    {
     "data": {
      "image/png": "[encoded data removed]",
      "text/plain": [
       "<Figure size 432x288 with 1 Axes>"
      ]
     },
     "metadata": {
      "needs_background": "light"
     },
     "output_type": "display_data"
    }
   ],
   "source": [
    "#check number of passengers by port of empbarkment\n",
    "ax = sns.countplot(x=\"Embarked\", data=train_df, palette=\"twilight\")\n",
    "plt.title(\"count of passengers by Port of embarkment\" )\n",
    "plt.show()"
   ]
  },
  {
   "cell_type": "code",
   "execution_count": 110,
   "id": "48db7d43-c333-4fe2-9bdf-ec2b0e6cbb0b",
   "metadata": {
    "collapsed": true,
    "jupyter": {
     "outputs_hidden": true
    },
    "tags": []
   },
   "outputs": [
    {
     "data": {
      "text/plain": [
       "Pclass    0\n",
       "Age       0\n",
       "SibSp     0\n",
       "Parch     0\n",
       "Fare      0\n",
       "C         0\n",
       "Q         0\n",
       "S         0\n",
       "female    0\n",
       "male      0\n",
       "dtype: int64"
      ]
     },
     "execution_count": 110,
     "metadata": {},
     "output_type": "execute_result"
    }
   ],
   "source": [
    "test_df.isnull().sum()\n"
   ]
  },
  {
   "cell_type": "code",
   "execution_count": 116,
   "id": "7362e92e-28dd-4cca-a0e3-86ef0d142326",
   "metadata": {},
   "outputs": [
    {
     "data": {
      "text/html": [
       "<div>\n",
       "<style scoped>\n",
       "    .dataframe tbody tr th:only-of-type {\n",
       "        vertical-align: middle;\n",
       "    }\n",
       "\n",
       "    .dataframe tbody tr th {\n",
       "        vertical-align: top;\n",
       "    }\n",
       "\n",
       "    .dataframe thead th {\n",
       "        text-align: right;\n",
       "    }\n",
       "</style>\n",
       "<table border=\"1\" class=\"dataframe\">\n",
       "  <thead>\n",
       "    <tr style=\"text-align: right;\">\n",
       "      <th></th>\n",
       "      <th>Survived</th>\n",
       "      <th>Pclass</th>\n",
       "      <th>Age</th>\n",
       "      <th>SibSp</th>\n",
       "      <th>Parch</th>\n",
       "      <th>Fare</th>\n",
       "      <th>C</th>\n",
       "      <th>Q</th>\n",
       "      <th>S</th>\n",
       "      <th>female</th>\n",
       "      <th>male</th>\n",
       "    </tr>\n",
       "  </thead>\n",
       "  <tbody>\n",
       "    <tr>\n",
       "      <th>0</th>\n",
       "      <td>0</td>\n",
       "      <td>3</td>\n",
       "      <td>22.000000</td>\n",
       "      <td>1</td>\n",
       "      <td>0</td>\n",
       "      <td>7.2500</td>\n",
       "      <td>0.0</td>\n",
       "      <td>0.0</td>\n",
       "      <td>1.0</td>\n",
       "      <td>0.0</td>\n",
       "      <td>1.0</td>\n",
       "    </tr>\n",
       "    <tr>\n",
       "      <th>1</th>\n",
       "      <td>1</td>\n",
       "      <td>1</td>\n",
       "      <td>38.000000</td>\n",
       "      <td>1</td>\n",
       "      <td>0</td>\n",
       "      <td>71.2833</td>\n",
       "      <td>1.0</td>\n",
       "      <td>0.0</td>\n",
       "      <td>0.0</td>\n",
       "      <td>1.0</td>\n",
       "      <td>0.0</td>\n",
       "    </tr>\n",
       "    <tr>\n",
       "      <th>2</th>\n",
       "      <td>1</td>\n",
       "      <td>3</td>\n",
       "      <td>26.000000</td>\n",
       "      <td>0</td>\n",
       "      <td>0</td>\n",
       "      <td>7.9250</td>\n",
       "      <td>0.0</td>\n",
       "      <td>0.0</td>\n",
       "      <td>1.0</td>\n",
       "      <td>1.0</td>\n",
       "      <td>0.0</td>\n",
       "    </tr>\n",
       "    <tr>\n",
       "      <th>3</th>\n",
       "      <td>1</td>\n",
       "      <td>1</td>\n",
       "      <td>35.000000</td>\n",
       "      <td>1</td>\n",
       "      <td>0</td>\n",
       "      <td>53.1000</td>\n",
       "      <td>0.0</td>\n",
       "      <td>0.0</td>\n",
       "      <td>1.0</td>\n",
       "      <td>1.0</td>\n",
       "      <td>0.0</td>\n",
       "    </tr>\n",
       "    <tr>\n",
       "      <th>4</th>\n",
       "      <td>0</td>\n",
       "      <td>3</td>\n",
       "      <td>35.000000</td>\n",
       "      <td>0</td>\n",
       "      <td>0</td>\n",
       "      <td>8.0500</td>\n",
       "      <td>0.0</td>\n",
       "      <td>0.0</td>\n",
       "      <td>1.0</td>\n",
       "      <td>0.0</td>\n",
       "      <td>1.0</td>\n",
       "    </tr>\n",
       "    <tr>\n",
       "      <th>...</th>\n",
       "      <td>...</td>\n",
       "      <td>...</td>\n",
       "      <td>...</td>\n",
       "      <td>...</td>\n",
       "      <td>...</td>\n",
       "      <td>...</td>\n",
       "      <td>...</td>\n",
       "      <td>...</td>\n",
       "      <td>...</td>\n",
       "      <td>...</td>\n",
       "      <td>...</td>\n",
       "    </tr>\n",
       "    <tr>\n",
       "      <th>886</th>\n",
       "      <td>0</td>\n",
       "      <td>2</td>\n",
       "      <td>27.000000</td>\n",
       "      <td>0</td>\n",
       "      <td>0</td>\n",
       "      <td>13.0000</td>\n",
       "      <td>0.0</td>\n",
       "      <td>0.0</td>\n",
       "      <td>1.0</td>\n",
       "      <td>0.0</td>\n",
       "      <td>1.0</td>\n",
       "    </tr>\n",
       "    <tr>\n",
       "      <th>887</th>\n",
       "      <td>1</td>\n",
       "      <td>1</td>\n",
       "      <td>19.000000</td>\n",
       "      <td>0</td>\n",
       "      <td>0</td>\n",
       "      <td>30.0000</td>\n",
       "      <td>0.0</td>\n",
       "      <td>0.0</td>\n",
       "      <td>1.0</td>\n",
       "      <td>1.0</td>\n",
       "      <td>0.0</td>\n",
       "    </tr>\n",
       "    <tr>\n",
       "      <th>888</th>\n",
       "      <td>0</td>\n",
       "      <td>3</td>\n",
       "      <td>29.699118</td>\n",
       "      <td>1</td>\n",
       "      <td>2</td>\n",
       "      <td>23.4500</td>\n",
       "      <td>0.0</td>\n",
       "      <td>0.0</td>\n",
       "      <td>1.0</td>\n",
       "      <td>1.0</td>\n",
       "      <td>0.0</td>\n",
       "    </tr>\n",
       "    <tr>\n",
       "      <th>889</th>\n",
       "      <td>1</td>\n",
       "      <td>1</td>\n",
       "      <td>26.000000</td>\n",
       "      <td>0</td>\n",
       "      <td>0</td>\n",
       "      <td>30.0000</td>\n",
       "      <td>1.0</td>\n",
       "      <td>0.0</td>\n",
       "      <td>0.0</td>\n",
       "      <td>0.0</td>\n",
       "      <td>1.0</td>\n",
       "    </tr>\n",
       "    <tr>\n",
       "      <th>890</th>\n",
       "      <td>0</td>\n",
       "      <td>3</td>\n",
       "      <td>32.000000</td>\n",
       "      <td>0</td>\n",
       "      <td>0</td>\n",
       "      <td>7.7500</td>\n",
       "      <td>0.0</td>\n",
       "      <td>1.0</td>\n",
       "      <td>0.0</td>\n",
       "      <td>0.0</td>\n",
       "      <td>1.0</td>\n",
       "    </tr>\n",
       "  </tbody>\n",
       "</table>\n",
       "<p>891 rows × 11 columns</p>\n",
       "</div>"
      ],
      "text/plain": [
       "     Survived  Pclass        Age  SibSp  Parch     Fare    C    Q    S  \\\n",
       "0           0       3  22.000000      1      0   7.2500  0.0  0.0  1.0   \n",
       "1           1       1  38.000000      1      0  71.2833  1.0  0.0  0.0   \n",
       "2           1       3  26.000000      0      0   7.9250  0.0  0.0  1.0   \n",
       "3           1       1  35.000000      1      0  53.1000  0.0  0.0  1.0   \n",
       "4           0       3  35.000000      0      0   8.0500  0.0  0.0  1.0   \n",
       "..        ...     ...        ...    ...    ...      ...  ...  ...  ...   \n",
       "886         0       2  27.000000      0      0  13.0000  0.0  0.0  1.0   \n",
       "887         1       1  19.000000      0      0  30.0000  0.0  0.0  1.0   \n",
       "888         0       3  29.699118      1      2  23.4500  0.0  0.0  1.0   \n",
       "889         1       1  26.000000      0      0  30.0000  1.0  0.0  0.0   \n",
       "890         0       3  32.000000      0      0   7.7500  0.0  1.0  0.0   \n",
       "\n",
       "     female  male  \n",
       "0       0.0   1.0  \n",
       "1       1.0   0.0  \n",
       "2       1.0   0.0  \n",
       "3       1.0   0.0  \n",
       "4       0.0   1.0  \n",
       "..      ...   ...  \n",
       "886     0.0   1.0  \n",
       "887     1.0   0.0  \n",
       "888     1.0   0.0  \n",
       "889     0.0   1.0  \n",
       "890     0.0   1.0  \n",
       "\n",
       "[891 rows x 11 columns]"
      ]
     },
     "execution_count": 116,
     "metadata": {},
     "output_type": "execute_result"
    }
   ],
   "source": [
    "train_df"
   ]
  },
  {
   "cell_type": "markdown",
   "id": "7fe95979",
   "metadata": {},
   "source": [
    "### Data Processing\n",
    "Here you prepare your data for training and testing. You'll select what predictors you want to include in your training and what you want to leave out, again providing an explanation. These can be varibales you've identified having little coorelation to your target variable."
   ]
  },
  {
   "cell_type": "code",
   "execution_count": 126,
   "id": "152a6aa0",
   "metadata": {},
   "outputs": [],
   "source": [
    "# Preprocessing\n",
    "from sklearn.linear_model import LogisticRegression\n",
    "#from sklearn.model_selection import train_test_split\n",
    "from sklearn.model_selection import cross_val_score\n",
    "from sklearn.model_selection import cross_validate\n",
    "from sklearn.model_selection import ShuffleSplit"
   ]
  },
  {
   "cell_type": "code",
   "execution_count": 132,
   "id": "f8ee7b17-d708-4da8-af14-5acb86820332",
   "metadata": {},
   "outputs": [],
   "source": [
    "# this is where we would test train but the dataset is already divided into testing and training \n",
    "# train test split \n",
    "from sklearn.model_selection import train_test_split\n",
    "\n",
    "# split training data into 80/20\n",
    "X = train_df.drop('Survived', axis=1)\n",
    "y = train_df['Survived']\n",
    "\n",
    "X_train, X_test, y_train, y_test = train_test_split(X, y, test_size=0.20)"
   ]
  },
  {
   "cell_type": "markdown",
   "id": "a5325a31",
   "metadata": {},
   "source": [
    "### ML Model\n",
    "Implementing a cross validation technique, train and test your model with you preprocessed data."
   ]
  },
  {
   "cell_type": "code",
   "execution_count": 133,
   "id": "084f09dd",
   "metadata": {},
   "outputs": [],
   "source": [
    "# Cross validation and performance metrics"
   ]
  },
  {
   "cell_type": "code",
   "execution_count": 134,
   "id": "d6778291-0bb1-4083-9f1d-2529fd05fcd6",
   "metadata": {},
   "outputs": [],
   "source": [
    "from sklearn.linear_model import LogisticRegression\n",
    "\n",
    "lgr = LogisticRegression(max_iter=1000)\n",
    "\n",
    "lgr.fit(X_train, y_train)\n",
    "\n",
    "y_pred = lgr.predict(X_test)"
   ]
  },
  {
   "cell_type": "code",
   "execution_count": null,
   "id": "73338058-4350-4d84-98be-57847f61f164",
   "metadata": {},
   "outputs": [],
   "source": []
  },
  {
   "cell_type": "markdown",
   "id": "67dd0db6-3041-4bb0-af62-58af68977834",
   "metadata": {},
   "source": [
    "converage needs to be addressed"
   ]
  },
  {
   "cell_type": "code",
   "execution_count": 135,
   "id": "84743cbe-f02b-46d2-9860-22c0de48a649",
   "metadata": {},
   "outputs": [
    {
     "data": {
      "text/plain": [
       "0.770949720670391"
      ]
     },
     "execution_count": 135,
     "metadata": {},
     "output_type": "execute_result"
    }
   ],
   "source": [
    "from sklearn.metrics import accuracy_score\n",
    "\n",
    "acc = accuracy_score(y_test, y_pred)\n",
    "acc"
   ]
  },
  {
   "cell_type": "code",
   "execution_count": 136,
   "id": "df0a28c9-04b8-4129-8924-161943ea65a1",
   "metadata": {
    "collapsed": true,
    "jupyter": {
     "outputs_hidden": true
    },
    "tags": []
   },
   "outputs": [
    {
     "ename": "ValueError",
     "evalue": "Found input variables with inconsistent numbers of samples: [891, 712]",
     "output_type": "error",
     "traceback": [
      "\u001b[0;31m---------------------------------------------------------------------------\u001b[0m",
      "\u001b[0;31mValueError\u001b[0m                                Traceback (most recent call last)",
      "\u001b[0;32m<ipython-input-136-87e235e16737>\u001b[0m in \u001b[0;36m<module>\u001b[0;34m\u001b[0m\n\u001b[1;32m      3\u001b[0m \u001b[0;34m\u001b[0m\u001b[0m\n\u001b[1;32m      4\u001b[0m \u001b[0mregressor\u001b[0m \u001b[0;34m=\u001b[0m \u001b[0mLinearRegression\u001b[0m\u001b[0;34m(\u001b[0m\u001b[0;34m)\u001b[0m\u001b[0;34m\u001b[0m\u001b[0;34m\u001b[0m\u001b[0m\n\u001b[0;32m----> 5\u001b[0;31m \u001b[0mscore\u001b[0m \u001b[0;34m=\u001b[0m \u001b[0mcross_val_score\u001b[0m\u001b[0;34m(\u001b[0m\u001b[0mregressor\u001b[0m\u001b[0;34m,\u001b[0m \u001b[0mx_train\u001b[0m\u001b[0;34m,\u001b[0m \u001b[0my_train\u001b[0m\u001b[0;34m,\u001b[0m\u001b[0mcv\u001b[0m\u001b[0;34m=\u001b[0m\u001b[0;36m5\u001b[0m\u001b[0;34m)\u001b[0m\u001b[0;34m\u001b[0m\u001b[0;34m\u001b[0m\u001b[0m\n\u001b[0m\u001b[1;32m      6\u001b[0m \u001b[0mprint\u001b[0m\u001b[0;34m(\u001b[0m\u001b[0mscore\u001b[0m\u001b[0;34m)\u001b[0m\u001b[0;34m\u001b[0m\u001b[0;34m\u001b[0m\u001b[0m\n",
      "\u001b[0;32m~/opt/anaconda3/lib/python3.8/site-packages/sklearn/model_selection/_validation.py\u001b[0m in \u001b[0;36mcross_val_score\u001b[0;34m(estimator, X, y, groups, scoring, cv, n_jobs, verbose, fit_params, pre_dispatch, error_score)\u001b[0m\n\u001b[1;32m    507\u001b[0m     \u001b[0mscorer\u001b[0m \u001b[0;34m=\u001b[0m \u001b[0mcheck_scoring\u001b[0m\u001b[0;34m(\u001b[0m\u001b[0mestimator\u001b[0m\u001b[0;34m,\u001b[0m \u001b[0mscoring\u001b[0m\u001b[0;34m=\u001b[0m\u001b[0mscoring\u001b[0m\u001b[0;34m)\u001b[0m\u001b[0;34m\u001b[0m\u001b[0;34m\u001b[0m\u001b[0m\n\u001b[1;32m    508\u001b[0m \u001b[0;34m\u001b[0m\u001b[0m\n\u001b[0;32m--> 509\u001b[0;31m     cv_results = cross_validate(\n\u001b[0m\u001b[1;32m    510\u001b[0m         \u001b[0mestimator\u001b[0m\u001b[0;34m=\u001b[0m\u001b[0mestimator\u001b[0m\u001b[0;34m,\u001b[0m\u001b[0;34m\u001b[0m\u001b[0;34m\u001b[0m\u001b[0m\n\u001b[1;32m    511\u001b[0m         \u001b[0mX\u001b[0m\u001b[0;34m=\u001b[0m\u001b[0mX\u001b[0m\u001b[0;34m,\u001b[0m\u001b[0;34m\u001b[0m\u001b[0;34m\u001b[0m\u001b[0m\n",
      "\u001b[0;32m~/opt/anaconda3/lib/python3.8/site-packages/sklearn/model_selection/_validation.py\u001b[0m in \u001b[0;36mcross_validate\u001b[0;34m(estimator, X, y, groups, scoring, cv, n_jobs, verbose, fit_params, pre_dispatch, return_train_score, return_estimator, error_score)\u001b[0m\n\u001b[1;32m    251\u001b[0m \u001b[0;34m\u001b[0m\u001b[0m\n\u001b[1;32m    252\u001b[0m     \"\"\"\n\u001b[0;32m--> 253\u001b[0;31m     \u001b[0mX\u001b[0m\u001b[0;34m,\u001b[0m \u001b[0my\u001b[0m\u001b[0;34m,\u001b[0m \u001b[0mgroups\u001b[0m \u001b[0;34m=\u001b[0m \u001b[0mindexable\u001b[0m\u001b[0;34m(\u001b[0m\u001b[0mX\u001b[0m\u001b[0;34m,\u001b[0m \u001b[0my\u001b[0m\u001b[0;34m,\u001b[0m \u001b[0mgroups\u001b[0m\u001b[0;34m)\u001b[0m\u001b[0;34m\u001b[0m\u001b[0;34m\u001b[0m\u001b[0m\n\u001b[0m\u001b[1;32m    254\u001b[0m \u001b[0;34m\u001b[0m\u001b[0m\n\u001b[1;32m    255\u001b[0m     \u001b[0mcv\u001b[0m \u001b[0;34m=\u001b[0m \u001b[0mcheck_cv\u001b[0m\u001b[0;34m(\u001b[0m\u001b[0mcv\u001b[0m\u001b[0;34m,\u001b[0m \u001b[0my\u001b[0m\u001b[0;34m,\u001b[0m \u001b[0mclassifier\u001b[0m\u001b[0;34m=\u001b[0m\u001b[0mis_classifier\u001b[0m\u001b[0;34m(\u001b[0m\u001b[0mestimator\u001b[0m\u001b[0;34m)\u001b[0m\u001b[0;34m)\u001b[0m\u001b[0;34m\u001b[0m\u001b[0;34m\u001b[0m\u001b[0m\n",
      "\u001b[0;32m~/opt/anaconda3/lib/python3.8/site-packages/sklearn/utils/validation.py\u001b[0m in \u001b[0;36mindexable\u001b[0;34m(*iterables)\u001b[0m\n\u001b[1;32m    376\u001b[0m \u001b[0;34m\u001b[0m\u001b[0m\n\u001b[1;32m    377\u001b[0m     \u001b[0mresult\u001b[0m \u001b[0;34m=\u001b[0m \u001b[0;34m[\u001b[0m\u001b[0m_make_indexable\u001b[0m\u001b[0;34m(\u001b[0m\u001b[0mX\u001b[0m\u001b[0;34m)\u001b[0m \u001b[0;32mfor\u001b[0m \u001b[0mX\u001b[0m \u001b[0;32min\u001b[0m \u001b[0miterables\u001b[0m\u001b[0;34m]\u001b[0m\u001b[0;34m\u001b[0m\u001b[0;34m\u001b[0m\u001b[0m\n\u001b[0;32m--> 378\u001b[0;31m     \u001b[0mcheck_consistent_length\u001b[0m\u001b[0;34m(\u001b[0m\u001b[0;34m*\u001b[0m\u001b[0mresult\u001b[0m\u001b[0;34m)\u001b[0m\u001b[0;34m\u001b[0m\u001b[0;34m\u001b[0m\u001b[0m\n\u001b[0m\u001b[1;32m    379\u001b[0m     \u001b[0;32mreturn\u001b[0m \u001b[0mresult\u001b[0m\u001b[0;34m\u001b[0m\u001b[0;34m\u001b[0m\u001b[0m\n\u001b[1;32m    380\u001b[0m \u001b[0;34m\u001b[0m\u001b[0m\n",
      "\u001b[0;32m~/opt/anaconda3/lib/python3.8/site-packages/sklearn/utils/validation.py\u001b[0m in \u001b[0;36mcheck_consistent_length\u001b[0;34m(*arrays)\u001b[0m\n\u001b[1;32m    330\u001b[0m     \u001b[0muniques\u001b[0m \u001b[0;34m=\u001b[0m \u001b[0mnp\u001b[0m\u001b[0;34m.\u001b[0m\u001b[0munique\u001b[0m\u001b[0;34m(\u001b[0m\u001b[0mlengths\u001b[0m\u001b[0;34m)\u001b[0m\u001b[0;34m\u001b[0m\u001b[0;34m\u001b[0m\u001b[0m\n\u001b[1;32m    331\u001b[0m     \u001b[0;32mif\u001b[0m \u001b[0mlen\u001b[0m\u001b[0;34m(\u001b[0m\u001b[0muniques\u001b[0m\u001b[0;34m)\u001b[0m \u001b[0;34m>\u001b[0m \u001b[0;36m1\u001b[0m\u001b[0;34m:\u001b[0m\u001b[0;34m\u001b[0m\u001b[0;34m\u001b[0m\u001b[0m\n\u001b[0;32m--> 332\u001b[0;31m         raise ValueError(\n\u001b[0m\u001b[1;32m    333\u001b[0m             \u001b[0;34m\"Found input variables with inconsistent numbers of samples: %r\"\u001b[0m\u001b[0;34m\u001b[0m\u001b[0;34m\u001b[0m\u001b[0m\n\u001b[1;32m    334\u001b[0m             \u001b[0;34m%\u001b[0m \u001b[0;34m[\u001b[0m\u001b[0mint\u001b[0m\u001b[0;34m(\u001b[0m\u001b[0ml\u001b[0m\u001b[0;34m)\u001b[0m \u001b[0;32mfor\u001b[0m \u001b[0ml\u001b[0m \u001b[0;32min\u001b[0m \u001b[0mlengths\u001b[0m\u001b[0;34m]\u001b[0m\u001b[0;34m\u001b[0m\u001b[0;34m\u001b[0m\u001b[0m\n",
      "\u001b[0;31mValueError\u001b[0m: Found input variables with inconsistent numbers of samples: [891, 712]"
     ]
    }
   ],
   "source": [
    "# # using testing set\n",
    "# # generate outcomes (prediction in list form and comparing predict to actual outcomes )\n",
    "\n",
    "# regressor = LinearRegression()\n",
    "# score = cross_val_score(regressor, x_train, y_train,cv=5)\n",
    "# print(score)"
   ]
  },
  {
   "cell_type": "code",
   "execution_count": 137,
   "id": "efee809d-5be0-48a6-a997-f6504dfc4602",
   "metadata": {
    "collapsed": true,
    "jupyter": {
     "outputs_hidden": true
    },
    "tags": []
   },
   "outputs": [
    {
     "ename": "ValueError",
     "evalue": "Found input variables with inconsistent numbers of samples: [891, 712]",
     "output_type": "error",
     "traceback": [
      "\u001b[0;31m---------------------------------------------------------------------------\u001b[0m",
      "\u001b[0;31mValueError\u001b[0m                                Traceback (most recent call last)",
      "\u001b[0;32m<ipython-input-137-b9b73e97ef74>\u001b[0m in \u001b[0;36m<module>\u001b[0;34m\u001b[0m\n\u001b[1;32m      3\u001b[0m \u001b[0;34m\u001b[0m\u001b[0m\n\u001b[1;32m      4\u001b[0m \u001b[0mreg\u001b[0m \u001b[0;34m=\u001b[0m \u001b[0mLogisticRegression\u001b[0m\u001b[0;34m(\u001b[0m\u001b[0;34m)\u001b[0m\u001b[0;34m\u001b[0m\u001b[0;34m\u001b[0m\u001b[0m\n\u001b[0;32m----> 5\u001b[0;31m \u001b[0mreg\u001b[0m\u001b[0;34m.\u001b[0m\u001b[0mfit\u001b[0m\u001b[0;34m(\u001b[0m\u001b[0mx_train\u001b[0m\u001b[0;34m,\u001b[0m \u001b[0my_train\u001b[0m\u001b[0;34m)\u001b[0m\u001b[0;34m\u001b[0m\u001b[0;34m\u001b[0m\u001b[0m\n\u001b[0m\u001b[1;32m      6\u001b[0m \u001b[0my_pred\u001b[0m \u001b[0;34m=\u001b[0m \u001b[0mlogreg\u001b[0m\u001b[0;34m.\u001b[0m\u001b[0mpredict\u001b[0m\u001b[0;34m(\u001b[0m\u001b[0mx_val\u001b[0m\u001b[0;34m)\u001b[0m\u001b[0;34m\u001b[0m\u001b[0;34m\u001b[0m\u001b[0m\n\u001b[1;32m      7\u001b[0m \u001b[0macc_logreg\u001b[0m \u001b[0;34m=\u001b[0m \u001b[0mround\u001b[0m\u001b[0;34m(\u001b[0m\u001b[0maccuracy_score\u001b[0m\u001b[0;34m(\u001b[0m\u001b[0my_pred\u001b[0m\u001b[0;34m,\u001b[0m \u001b[0my_val\u001b[0m\u001b[0;34m)\u001b[0m \u001b[0;34m*\u001b[0m \u001b[0;36m100\u001b[0m\u001b[0;34m,\u001b[0m \u001b[0;36m2\u001b[0m\u001b[0;34m)\u001b[0m\u001b[0;34m\u001b[0m\u001b[0;34m\u001b[0m\u001b[0m\n",
      "\u001b[0;32m~/opt/anaconda3/lib/python3.8/site-packages/sklearn/linear_model/_logistic.py\u001b[0m in \u001b[0;36mfit\u001b[0;34m(self, X, y, sample_weight)\u001b[0m\n\u001b[1;32m   1506\u001b[0m             \u001b[0m_dtype\u001b[0m \u001b[0;34m=\u001b[0m \u001b[0;34m[\u001b[0m\u001b[0mnp\u001b[0m\u001b[0;34m.\u001b[0m\u001b[0mfloat64\u001b[0m\u001b[0;34m,\u001b[0m \u001b[0mnp\u001b[0m\u001b[0;34m.\u001b[0m\u001b[0mfloat32\u001b[0m\u001b[0;34m]\u001b[0m\u001b[0;34m\u001b[0m\u001b[0;34m\u001b[0m\u001b[0m\n\u001b[1;32m   1507\u001b[0m \u001b[0;34m\u001b[0m\u001b[0m\n\u001b[0;32m-> 1508\u001b[0;31m         X, y = self._validate_data(\n\u001b[0m\u001b[1;32m   1509\u001b[0m             \u001b[0mX\u001b[0m\u001b[0;34m,\u001b[0m\u001b[0;34m\u001b[0m\u001b[0;34m\u001b[0m\u001b[0m\n\u001b[1;32m   1510\u001b[0m             \u001b[0my\u001b[0m\u001b[0;34m,\u001b[0m\u001b[0;34m\u001b[0m\u001b[0;34m\u001b[0m\u001b[0m\n",
      "\u001b[0;32m~/opt/anaconda3/lib/python3.8/site-packages/sklearn/base.py\u001b[0m in \u001b[0;36m_validate_data\u001b[0;34m(self, X, y, reset, validate_separately, **check_params)\u001b[0m\n\u001b[1;32m    579\u001b[0m                 \u001b[0my\u001b[0m \u001b[0;34m=\u001b[0m \u001b[0mcheck_array\u001b[0m\u001b[0;34m(\u001b[0m\u001b[0my\u001b[0m\u001b[0;34m,\u001b[0m \u001b[0;34m**\u001b[0m\u001b[0mcheck_y_params\u001b[0m\u001b[0;34m)\u001b[0m\u001b[0;34m\u001b[0m\u001b[0;34m\u001b[0m\u001b[0m\n\u001b[1;32m    580\u001b[0m             \u001b[0;32melse\u001b[0m\u001b[0;34m:\u001b[0m\u001b[0;34m\u001b[0m\u001b[0;34m\u001b[0m\u001b[0m\n\u001b[0;32m--> 581\u001b[0;31m                 \u001b[0mX\u001b[0m\u001b[0;34m,\u001b[0m \u001b[0my\u001b[0m \u001b[0;34m=\u001b[0m \u001b[0mcheck_X_y\u001b[0m\u001b[0;34m(\u001b[0m\u001b[0mX\u001b[0m\u001b[0;34m,\u001b[0m \u001b[0my\u001b[0m\u001b[0;34m,\u001b[0m \u001b[0;34m**\u001b[0m\u001b[0mcheck_params\u001b[0m\u001b[0;34m)\u001b[0m\u001b[0;34m\u001b[0m\u001b[0;34m\u001b[0m\u001b[0m\n\u001b[0m\u001b[1;32m    582\u001b[0m             \u001b[0mout\u001b[0m \u001b[0;34m=\u001b[0m \u001b[0mX\u001b[0m\u001b[0;34m,\u001b[0m \u001b[0my\u001b[0m\u001b[0;34m\u001b[0m\u001b[0;34m\u001b[0m\u001b[0m\n\u001b[1;32m    583\u001b[0m \u001b[0;34m\u001b[0m\u001b[0m\n",
      "\u001b[0;32m~/opt/anaconda3/lib/python3.8/site-packages/sklearn/utils/validation.py\u001b[0m in \u001b[0;36mcheck_X_y\u001b[0;34m(X, y, accept_sparse, accept_large_sparse, dtype, order, copy, force_all_finite, ensure_2d, allow_nd, multi_output, ensure_min_samples, ensure_min_features, y_numeric, estimator)\u001b[0m\n\u001b[1;32m    979\u001b[0m     \u001b[0my\u001b[0m \u001b[0;34m=\u001b[0m \u001b[0m_check_y\u001b[0m\u001b[0;34m(\u001b[0m\u001b[0my\u001b[0m\u001b[0;34m,\u001b[0m \u001b[0mmulti_output\u001b[0m\u001b[0;34m=\u001b[0m\u001b[0mmulti_output\u001b[0m\u001b[0;34m,\u001b[0m \u001b[0my_numeric\u001b[0m\u001b[0;34m=\u001b[0m\u001b[0my_numeric\u001b[0m\u001b[0;34m)\u001b[0m\u001b[0;34m\u001b[0m\u001b[0;34m\u001b[0m\u001b[0m\n\u001b[1;32m    980\u001b[0m \u001b[0;34m\u001b[0m\u001b[0m\n\u001b[0;32m--> 981\u001b[0;31m     \u001b[0mcheck_consistent_length\u001b[0m\u001b[0;34m(\u001b[0m\u001b[0mX\u001b[0m\u001b[0;34m,\u001b[0m \u001b[0my\u001b[0m\u001b[0;34m)\u001b[0m\u001b[0;34m\u001b[0m\u001b[0;34m\u001b[0m\u001b[0m\n\u001b[0m\u001b[1;32m    982\u001b[0m \u001b[0;34m\u001b[0m\u001b[0m\n\u001b[1;32m    983\u001b[0m     \u001b[0;32mreturn\u001b[0m \u001b[0mX\u001b[0m\u001b[0;34m,\u001b[0m \u001b[0my\u001b[0m\u001b[0;34m\u001b[0m\u001b[0;34m\u001b[0m\u001b[0m\n",
      "\u001b[0;32m~/opt/anaconda3/lib/python3.8/site-packages/sklearn/utils/validation.py\u001b[0m in \u001b[0;36mcheck_consistent_length\u001b[0;34m(*arrays)\u001b[0m\n\u001b[1;32m    330\u001b[0m     \u001b[0muniques\u001b[0m \u001b[0;34m=\u001b[0m \u001b[0mnp\u001b[0m\u001b[0;34m.\u001b[0m\u001b[0munique\u001b[0m\u001b[0;34m(\u001b[0m\u001b[0mlengths\u001b[0m\u001b[0;34m)\u001b[0m\u001b[0;34m\u001b[0m\u001b[0;34m\u001b[0m\u001b[0m\n\u001b[1;32m    331\u001b[0m     \u001b[0;32mif\u001b[0m \u001b[0mlen\u001b[0m\u001b[0;34m(\u001b[0m\u001b[0muniques\u001b[0m\u001b[0;34m)\u001b[0m \u001b[0;34m>\u001b[0m \u001b[0;36m1\u001b[0m\u001b[0;34m:\u001b[0m\u001b[0;34m\u001b[0m\u001b[0;34m\u001b[0m\u001b[0m\n\u001b[0;32m--> 332\u001b[0;31m         raise ValueError(\n\u001b[0m\u001b[1;32m    333\u001b[0m             \u001b[0;34m\"Found input variables with inconsistent numbers of samples: %r\"\u001b[0m\u001b[0;34m\u001b[0m\u001b[0;34m\u001b[0m\u001b[0m\n\u001b[1;32m    334\u001b[0m             \u001b[0;34m%\u001b[0m \u001b[0;34m[\u001b[0m\u001b[0mint\u001b[0m\u001b[0;34m(\u001b[0m\u001b[0ml\u001b[0m\u001b[0;34m)\u001b[0m \u001b[0;32mfor\u001b[0m \u001b[0ml\u001b[0m \u001b[0;32min\u001b[0m \u001b[0mlengths\u001b[0m\u001b[0;34m]\u001b[0m\u001b[0;34m\u001b[0m\u001b[0;34m\u001b[0m\u001b[0m\n",
      "\u001b[0;31mValueError\u001b[0m: Found input variables with inconsistent numbers of samples: [891, 712]"
     ]
    }
   ],
   "source": [
    "# Logistic Regression\n",
    "from sklearn.linear_model import LogisticRegression\n",
    "\n",
    "reg = LogisticRegression()\n",
    "reg.fit(x_train, y_train)\n",
    "y_pred = logreg.predict(x_val)\n",
    "acc_logreg = round(accuracy_score(y_pred, y_val) * 100, 2)\n",
    "print(acc_logreg)"
   ]
  },
  {
   "cell_type": "code",
   "execution_count": 125,
   "id": "9f1d83e8-7336-4421-9c1c-e310b1cf80cf",
   "metadata": {},
   "outputs": [],
   "source": [
    "# # check classification scores of logistic regression\n",
    "# logreg = LogisticRegression(max_iter=1000)\n",
    "# logreg.fit(X_train, y_train)\n",
    "# y_pred = logreg.predict(X_test)\n"
   ]
  },
  {
   "cell_type": "code",
   "execution_count": null,
   "id": "6169eeab-b766-45f0-9e09-53152317c4e3",
   "metadata": {},
   "outputs": [],
   "source": [
    "\n"
   ]
  },
  {
   "cell_type": "code",
   "execution_count": null,
   "id": "0982db3e-f258-4e45-80a3-d5096bb824cb",
   "metadata": {
    "tags": []
   },
   "outputs": [],
   "source": [
    "from sklearn.ensemble import RandomForestClassifier\n",
    "\n",
    "y = train_data[\"Survived\"]\n",
    "\n",
    "features = [\"Pclass\", \"Sex\", \"SibSp\", \"Parch\"]\n",
    "X = pd.get_dummies(train_data[features])\n",
    "X_test = pd.get_dummies(test_data[features])\n",
    "\n",
    "model = RandomForestClassifier(n_estimators=100, max_depth=5, random_state=1)\n",
    "model.fit(X, y)\n",
    "predictions = model.predict(X_test)\n",
    "\n",
    "output = pd.DataFrame({'PassengerId': test_data.PassengerId, 'Survived': predictions})\n",
    "output.to_csv('my_submission.csv', index=False)\n",
    "print(\"Your submission was successfully saved!\")"
   ]
  },
  {
   "cell_type": "markdown",
   "id": "e9c232f0",
   "metadata": {},
   "source": [
    "### Model Evaluation\n",
    "Using the metrics gathered when training and testing your model, visualize the performance of your model."
   ]
  },
  {
   "cell_type": "code",
   "execution_count": null,
   "id": "4d2cd4aa",
   "metadata": {},
   "outputs": [],
   "source": [
    "# Model Evaluation Code"
   ]
  },
  {
   "cell_type": "markdown",
   "id": "966635f1",
   "metadata": {},
   "source": [
    "Provide context to the meaning of your visuals or any performance metrics derived."
   ]
  },
  {
   "cell_type": "code",
   "execution_count": 138,
   "id": "a9dd360d-1f1f-44e0-af22-619472bfcc0a",
   "metadata": {},
   "outputs": [
    {
     "name": "stdout",
     "output_type": "stream",
     "text": [
      "{'fit_time': array([0.04658103, 0.03246999, 0.05443978, 0.03159285, 0.02631879]), 'score_time': array([0.00240898, 0.00237989, 0.00213408, 0.001899  , 0.0017662 ]), 'test_accuracy': array([0.78504673, 0.76168224, 0.81308411, 0.8317757 , 0.79439252]), 'test_precision': array([0.71428571, 0.73972603, 0.74324324, 0.81967213, 0.76119403])}\n",
      "0.755624229184901\n",
      "0.7971962616822431\n"
     ]
    }
   ],
   "source": [
    "#Kfolds cross validate\n",
    "#option for scoring precision and/or accuracy\n",
    "regressor = LogisticRegression(max_iter=1000)\n",
    "scores = cross_validate(regressor, X_train, y_train, cv=ShuffleSplit(n_splits=5, test_size=0.3),scoring=('accuracy', 'precision'))\n",
    "#scores is a dict keys are metric values are array of dif vals\n",
    "print(scores)\n",
    "print(scores['test_precision'].mean())\n",
    "print(scores['test_accuracy'].mean())"
   ]
  },
  {
   "cell_type": "code",
   "execution_count": null,
   "id": "87d4aec7-a8f6-48b2-85ec-add0b9d12a18",
   "metadata": {},
   "outputs": [],
   "source": []
  },
  {
   "cell_type": "code",
   "execution_count": null,
   "id": "7f572d11-96fd-403f-8233-1a7e4db8a6c8",
   "metadata": {},
   "outputs": [],
   "source": [
    "regressor.fit()"
   ]
  },
  {
   "cell_type": "markdown",
   "id": "d6450c6f",
   "metadata": {},
   "source": [
    "---\n",
    "<br>\n",
    "\n",
    "### Conclusion\n",
    "State your overall findings, being sure to mention any next steps you would take going forward, or anything you would do differently provided the time and resources."
   ]
  },
  {
   "cell_type": "code",
   "execution_count": null,
   "id": "e64aa31c-de7f-4ca3-a095-83565a1a0068",
   "metadata": {},
   "outputs": [],
   "source": [
    "Gender was strongest predictor of survival \n",
    "other features can be studied in more detail "
   ]
  },
  {
   "cell_type": "markdown",
   "id": "ebc898e9-e110-4d71-9fbd-f9797451df31",
   "metadata": {},
   "source": [
    "## SUBMISSION "
   ]
  },
  {
   "cell_type": "code",
   "execution_count": 119,
   "id": "25354645-8540-4059-a2e5-89161a791e14",
   "metadata": {},
   "outputs": [
    {
     "data": {
      "text/html": [
       "<div>\n",
       "<style scoped>\n",
       "    .dataframe tbody tr th:only-of-type {\n",
       "        vertical-align: middle;\n",
       "    }\n",
       "\n",
       "    .dataframe tbody tr th {\n",
       "        vertical-align: top;\n",
       "    }\n",
       "\n",
       "    .dataframe thead th {\n",
       "        text-align: right;\n",
       "    }\n",
       "</style>\n",
       "<table border=\"1\" class=\"dataframe\">\n",
       "  <thead>\n",
       "    <tr style=\"text-align: right;\">\n",
       "      <th></th>\n",
       "      <th>PassengerId</th>\n",
       "      <th>Survived</th>\n",
       "    </tr>\n",
       "  </thead>\n",
       "  <tbody>\n",
       "    <tr>\n",
       "      <th>0</th>\n",
       "      <td>892</td>\n",
       "      <td>0</td>\n",
       "    </tr>\n",
       "    <tr>\n",
       "      <th>1</th>\n",
       "      <td>893</td>\n",
       "      <td>0</td>\n",
       "    </tr>\n",
       "    <tr>\n",
       "      <th>2</th>\n",
       "      <td>894</td>\n",
       "      <td>0</td>\n",
       "    </tr>\n",
       "    <tr>\n",
       "      <th>3</th>\n",
       "      <td>895</td>\n",
       "      <td>0</td>\n",
       "    </tr>\n",
       "    <tr>\n",
       "      <th>4</th>\n",
       "      <td>896</td>\n",
       "      <td>1</td>\n",
       "    </tr>\n",
       "  </tbody>\n",
       "</table>\n",
       "</div>"
      ],
      "text/plain": [
       "   PassengerId  Survived\n",
       "0          892         0\n",
       "1          893         0\n",
       "2          894         0\n",
       "3          895         0\n",
       "4          896         1"
      ]
     },
     "execution_count": 119,
     "metadata": {},
     "output_type": "execute_result"
    }
   ],
   "source": [
    "submission_prediction = lgr.predict(test_df)\n",
    "submission = pd.DataFrame({'PassengerId': id_column.values, 'Survived': submission_prediction})\n",
    "submission.head()"
   ]
  },
  {
   "cell_type": "code",
   "execution_count": null,
   "id": "bdd7bbf7-7651-4361-a1c8-eed19d974d72",
   "metadata": {},
   "outputs": [],
   "source": []
  },
  {
   "cell_type": "code",
   "execution_count": null,
   "id": "2ffd3af3-bd46-414b-8f81-51d10c7750d5",
   "metadata": {
    "tags": []
   },
   "outputs": [],
   "source": [
    "test_model_df['Id'] = test_df['Id']\n",
    "test_model_df"
   ]
  },
  {
   "cell_type": "code",
   "execution_count": null,
   "id": "6570a329-2d48-4557-bf59-610df8f282b3",
   "metadata": {
    "tags": []
   },
   "outputs": [],
   "source": [
    "submission_df = test_model_df[['Id','Survived']]"
   ]
  },
  {
   "cell_type": "code",
   "execution_count": 121,
   "id": "f5021cc7-3f52-406a-82e9-cb1d74c4e466",
   "metadata": {},
   "outputs": [],
   "source": [
    "submission.to_csv('/Users/tkhstudent29/Desktop/titanic_prediction.csv' , index=False, header=True)"
   ]
  },
  {
   "attachments": {
    "c7255ecb-7d2d-4369-9738-528157f616f2.png": {
     "image/png": "[encoded data removed]"
    }
   },
   "cell_type": "markdown",
   "id": "2a35da9b-4eeb-4baf-a739-2d7bfe50b067",
   "metadata": {},
   "source": [
    "![image.png](attachment:c7255ecb-7d2d-4369-9738-528157f616f2.png)"
   ]
  },
  {
   "cell_type": "code",
   "execution_count": null,
   "id": "19c06704-6e16-442d-bedc-4bb6e2eee923",
   "metadata": {},
   "outputs": [],
   "source": []
  }
 ],
 "metadata": {
  "kernelspec": {
   "display_name": "Python 3",
   "language": "python",
   "name": "python3"
  },
  "language_info": {
   "codemirror_mode": {
    "name": "ipython",
    "version": 3
   },
   "file_extension": ".py",
   "mimetype": "text/x-python",
   "name": "python",
   "nbconvert_exporter": "python",
   "pygments_lexer": "ipython3",
   "version": "3.8.8"
  }
 },
 "nbformat": 4,
 "nbformat_minor": 5
}
